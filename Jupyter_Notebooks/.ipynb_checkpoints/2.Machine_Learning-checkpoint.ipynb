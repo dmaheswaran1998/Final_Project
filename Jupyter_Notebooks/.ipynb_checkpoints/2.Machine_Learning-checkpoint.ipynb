{
 "cells": [
  {
   "cell_type": "code",
   "execution_count": 1,
   "metadata": {},
   "outputs": [
    {
     "name": "stderr",
     "output_type": "stream",
     "text": [
      "[nltk_data] Downloading package stopwords to\n",
      "[nltk_data]     /Users/dhanyamaheswaran/nltk_data...\n",
      "[nltk_data]   Package stopwords is already up-to-date!\n"
     ]
    }
   ],
   "source": [
    "#Libries to process tweets \n",
    "import pandas as pd\n",
    "import numpy as np\n",
    "import re\n",
    "import string\n",
    "import nltk\n",
    "nltk.download('stopwords')  \n",
    "from nltk.corpus import stopwords \n",
    "from nltk.tokenize import word_tokenize\n",
    "from string import punctuation \n",
    "\n",
    "#Using sk.learn Libraries to test models and then\n",
    "from sklearn.feature_extraction.text import TfidfVectorizer  \n",
    "from sklearn.naive_bayes import GaussianNB\n",
    "from sklearn.model_selection import train_test_split  \n",
    "from sklearn.ensemble import RandomForestClassifier\n",
    "from sklearn.metrics import classification_report, confusion_matrix, accuracy_score\n",
    "from sklearn.linear_model import LogisticRegression\n",
    "\n",
    "\n",
    "\n"
   ]
  },
  {
   "cell_type": "code",
   "execution_count": 2,
   "metadata": {},
   "outputs": [],
   "source": [
    "training_reviews=pd.read_csv(\"../data/IMDB_Dataset.csv\",  encoding='latin-1')\n"
   ]
  },
  {
   "cell_type": "code",
   "execution_count": 3,
   "metadata": {},
   "outputs": [
    {
     "data": {
      "text/html": [
       "<div>\n",
       "<style scoped>\n",
       "    .dataframe tbody tr th:only-of-type {\n",
       "        vertical-align: middle;\n",
       "    }\n",
       "\n",
       "    .dataframe tbody tr th {\n",
       "        vertical-align: top;\n",
       "    }\n",
       "\n",
       "    .dataframe thead th {\n",
       "        text-align: right;\n",
       "    }\n",
       "</style>\n",
       "<table border=\"1\" class=\"dataframe\">\n",
       "  <thead>\n",
       "    <tr style=\"text-align: right;\">\n",
       "      <th></th>\n",
       "      <th>review</th>\n",
       "      <th>sentiment</th>\n",
       "    </tr>\n",
       "  </thead>\n",
       "  <tbody>\n",
       "    <tr>\n",
       "      <th>0</th>\n",
       "      <td>One of the other reviewers has mentioned that ...</td>\n",
       "      <td>positive</td>\n",
       "    </tr>\n",
       "    <tr>\n",
       "      <th>1</th>\n",
       "      <td>A wonderful little production. &lt;br /&gt;&lt;br /&gt;The...</td>\n",
       "      <td>positive</td>\n",
       "    </tr>\n",
       "    <tr>\n",
       "      <th>2</th>\n",
       "      <td>I thought this was a wonderful way to spend ti...</td>\n",
       "      <td>positive</td>\n",
       "    </tr>\n",
       "    <tr>\n",
       "      <th>3</th>\n",
       "      <td>Basically there's a family where a little boy ...</td>\n",
       "      <td>negative</td>\n",
       "    </tr>\n",
       "    <tr>\n",
       "      <th>4</th>\n",
       "      <td>Petter Mattei's \"Love in the Time of Money\" is...</td>\n",
       "      <td>positive</td>\n",
       "    </tr>\n",
       "  </tbody>\n",
       "</table>\n",
       "</div>"
      ],
      "text/plain": [
       "                                              review sentiment\n",
       "0  One of the other reviewers has mentioned that ...  positive\n",
       "1  A wonderful little production. <br /><br />The...  positive\n",
       "2  I thought this was a wonderful way to spend ti...  positive\n",
       "3  Basically there's a family where a little boy ...  negative\n",
       "4  Petter Mattei's \"Love in the Time of Money\" is...  positive"
      ]
     },
     "execution_count": 3,
     "metadata": {},
     "output_type": "execute_result"
    }
   ],
   "source": [
    "training_reviews.head(5)\n"
   ]
  },
  {
   "cell_type": "code",
   "execution_count": null,
   "metadata": {},
   "outputs": [],
   "source": [
    "#editing the training review column\n",
    "\n",
    "text = training_reviews['review'].to_list()\n",
    "edited_text=[]\n",
    "\n",
    "#Lowercase tweets\n",
    "for review in text:\n",
    "    #convert all letters to a lower case\n",
    "    edited_review=review.lower()\n",
    "   \n",
    "    #removing punctuation \n",
    "    \n",
    "    edited_review=re.sub(\"([.;:!\\'?,\\\"()\\[\\]])\",\"\", edited_review)\n",
    "\n",
    "    \n",
    "    \n",
    "    #removing the <br / br>\n",
    "    \n",
    "    edited_review=re.sub(\"(<br\\s*/><br\\s*/>)|(\\-)|(\\/)\", \" \", edited_review)\n",
    "    \n",
    "    edited_text.append(edited_review)\n",
    "    "
   ]
  },
  {
   "cell_type": "code",
   "execution_count": null,
   "metadata": {},
   "outputs": [],
   "source": [
    "tfidfconverter = TfidfVectorizer(max_features=2000, min_df=5, max_df=0.7, stop_words=stopwords.words('english'))  \n",
    "X = tfidfconverter.fit_transform(edited_text).toarray()\n"
   ]
  },
  {
   "cell_type": "code",
   "execution_count": null,
   "metadata": {},
   "outputs": [],
   "source": [
    "y=training_reviews['sentiment'].to_list()"
   ]
  },
  {
   "cell_type": "code",
   "execution_count": null,
   "metadata": {},
   "outputs": [],
   "source": [
    "\n",
    "X_train, X_test, y_train, y_test = train_test_split(X, y, test_size=0.2, random_state=0)\n",
    " "
   ]
  },
  {
   "cell_type": "code",
   "execution_count": null,
   "metadata": {},
   "outputs": [],
   "source": [
    "\n",
    "sentiment_random_classifier = RandomForestClassifier(n_estimators=90, random_state=0)  \n",
    "sentiment_random_classifier.fit(X_train, y_train)\n",
    " "
   ]
  },
  {
   "cell_type": "code",
   "execution_count": null,
   "metadata": {},
   "outputs": [],
   "source": [
    "sentiment_predictions_forest = sentiment_random_classifier.predict(X_test)\n"
   ]
  },
  {
   "cell_type": "code",
   "execution_count": null,
   "metadata": {},
   "outputs": [],
   "source": [
    "\n",
    " \n",
    "print(confusion_matrix(y_test,sentiment_predictions_forest))  \n",
    "print(classification_report(y_test,sentiment_predictions_forest))  \n",
    "print(accuracy_score(y_test, sentiment_predictions_forest))"
   ]
  },
  {
   "cell_type": "code",
   "execution_count": null,
   "metadata": {},
   "outputs": [],
   "source": [
    "sentiment_bayes_classifier = GaussianNB() \n",
    "sentiment_bayes_classifier.fit(X_train, y_train)\n",
    "\n",
    "sentiment_predictions_bayes = sentiment_bayes_classifier.predict(X_test)\n"
   ]
  },
  {
   "cell_type": "code",
   "execution_count": null,
   "metadata": {},
   "outputs": [],
   "source": [
    " \n",
    "print(confusion_matrix(y_test,sentiment_predictions_bayes))  \n",
    "print(classification_report(y_test,sentiment_predictions_bayes))  \n",
    "print(accuracy_score(y_test, sentiment_predictions_bayes))\n"
   ]
  },
  {
   "cell_type": "code",
   "execution_count": null,
   "metadata": {},
   "outputs": [],
   "source": [
    "#Naive Bayes performed much worse than the Random Forest Algorithm surpirisngly"
   ]
  },
  {
   "cell_type": "code",
   "execution_count": null,
   "metadata": {},
   "outputs": [],
   "source": [
    "#Logistic regression, how did that go\n",
    "\n",
    "sentiment_regression_classifier=LogisticRegression()\n",
    "sentiment_regression_classifier.fit(X_train, y_train)"
   ]
  },
  {
   "cell_type": "code",
   "execution_count": null,
   "metadata": {},
   "outputs": [],
   "source": [
    "linear_predictions = sentiment_regression_classifier.predict(X_test)"
   ]
  },
  {
   "cell_type": "code",
   "execution_count": null,
   "metadata": {},
   "outputs": [],
   "source": [
    "print(confusion_matrix(y_test,linear_predictions))  \n",
    "print(classification_report(y_test,linear_predictions))  \n",
    "print(accuracy_score(y_test, linear_predictions))\n"
   ]
  },
  {
   "cell_type": "code",
   "execution_count": null,
   "metadata": {},
   "outputs": [],
   "source": [
    "#close to 80%, the most accurate. Thus, the decision to use the Logistic regression "
   ]
  },
  {
   "cell_type": "code",
   "execution_count": null,
   "metadata": {},
   "outputs": [],
   "source": [
    "#loading in the Trump_dataset\n",
    "\n",
    "tweets_df=pd.read_csv(\"../data/tweets_scraped.csv\")\n",
    "tweets_df"
   ]
  },
  {
   "cell_type": "code",
   "execution_count": null,
   "metadata": {},
   "outputs": [],
   "source": [
    "#cleaning up the trump tweets:\n",
    "tweet_text = tweets_df['Tweet Text'].to_list()\n",
    "edited_text=[]\n",
    "sentiment_list=[]\n",
    "\n",
    "#Lowercase tweets\n",
    "for tweet in range (0, len(tweet_text)):\n",
    "    #lower case\n",
    "    #removing speocial cahracters\n",
    "    edited_tweet = re.sub(r'\\W', ' ', str(tweet_text[tweet]))\n",
    " \n",
    "    # remove sinflue\n",
    "    edited_tweet = re.sub(r'\\s+[a-zA-Z]\\s+', ' ', edited_tweet)\n",
    " \n",
    "    # Remove single characters from the start\n",
    "    edited_tweet = re.sub(r'\\^[a-zA-Z]\\s+', ' ', edited_tweet) \n",
    " \n",
    "    # Substituting multiple spaces with single space\n",
    "    edited_tweet= re.sub(r'\\s+', ' ', edited_tweet, flags=re.I)\n",
    " \n",
    "    # Removing prefixed 'b'\n",
    "    edited_tweet = re.sub(r'^b\\s+', '', edited_tweet)\n",
    "    \n",
    "    #removing stopwords tweets\n",
    "    \n",
    "    \n",
    "    edited_tweet=edited_tweet.lower()\n",
    "    \n",
    "    edited_text.append(edited_tweet) \n",
    "    \n",
    "    sentiment_trump = sentiment_regression_classifier.predict(tfidfconverter.transform([edited_tweet]).toarray())\n",
    "    sentiment_list.append(sentiment_trump)"
   ]
  },
  {
   "cell_type": "code",
   "execution_count": null,
   "metadata": {},
   "outputs": [],
   "source": [
    "\n",
    "sentiment_list_edited=[]\n",
    "\n",
    "for item in sentiment_list:\n",
    "    if \"positive\" in item:\n",
    "        sentiment_list_edited.append(\"positive\")\n",
    "    else:\n",
    "        sentiment_list_edited.append(\"negative\")"
   ]
  },
  {
   "cell_type": "code",
   "execution_count": null,
   "metadata": {},
   "outputs": [],
   "source": [
    "#Adding the list to the dataframe \n",
    "\n",
    "tweets_df[\"sentiment\"]=sentiment_list_edited\n"
   ]
  },
  {
   "cell_type": "code",
   "execution_count": null,
   "metadata": {},
   "outputs": [],
   "source": [
    "tweets_df.to_csv(\"../data/tweets_classified.csv\")"
   ]
  },
  {
   "cell_type": "code",
   "execution_count": null,
   "metadata": {},
   "outputs": [],
   "source": [
    "tweets_df"
   ]
  }
 ],
 "metadata": {
  "kernelspec": {
   "display_name": "Python 3",
   "language": "python",
   "name": "python3"
  },
  "language_info": {
   "codemirror_mode": {
    "name": "ipython",
    "version": 3
   },
   "file_extension": ".py",
   "mimetype": "text/x-python",
   "name": "python",
   "nbconvert_exporter": "python",
   "pygments_lexer": "ipython3",
   "version": "3.7.6"
  }
 },
 "nbformat": 4,
 "nbformat_minor": 4
}
