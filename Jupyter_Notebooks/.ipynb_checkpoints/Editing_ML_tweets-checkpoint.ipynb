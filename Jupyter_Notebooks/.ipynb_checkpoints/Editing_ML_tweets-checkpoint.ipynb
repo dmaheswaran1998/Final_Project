{
 "cells": [
  {
   "cell_type": "code",
   "execution_count": 2,
   "metadata": {},
   "outputs": [],
   "source": [
    "#Needed to successfully import as a wordcould\n",
    "import numpy as np\n",
    "import pandas as pd\n",
    "import matplotlib.pyplot as plt\n",
    "import re\n",
    "from twython import Twython\n",
    "from wordcloud import WordCloud, STOPWORDS\n",
    "from IPython.display import Image as im\n",
    "from PIL import Image\n",
    "from collections import defaultdict\n",
    "import json\n"
   ]
  },
  {
   "cell_type": "code",
   "execution_count": 3,
   "metadata": {},
   "outputs": [
    {
     "data": {
      "text/plain": [
       "Unnamed: 0      86\n",
       "Unnamed: 0.1    86\n",
       "id              86\n",
       "Created at      86\n",
       "Screen Name     86\n",
       "Tweet Text      86\n",
       "sentiment       86\n",
       "dtype: int64"
      ]
     },
     "execution_count": 3,
     "metadata": {},
     "output_type": "execute_result"
    }
   ],
   "source": [
    "json_list=[]\n",
    "trump=pd.read_csv(\"../data/trump_tweets_classified.csv\")\n",
    "trump.head()\n",
    "trump.count()"
   ]
  },
  {
   "cell_type": "code",
   "execution_count": null,
   "metadata": {},
   "outputs": [],
   "source": [
    "trump2=trump[[\"id\", \"Created at\", \"Screen Name\", \"Tweet Text\", \"sentiment\"]]\n",
    "trump2.count()"
   ]
  },
  {
   "cell_type": "code",
   "execution_count": null,
   "metadata": {},
   "outputs": [],
   "source": [
    "trump2[\"Frequency\"]=1"
   ]
  },
  {
   "cell_type": "code",
   "execution_count": null,
   "metadata": {},
   "outputs": [],
   "source": [
    "#modifying the date-time string \n",
    "time_string=trump2[\"Created at\"].to_list()\n",
    "time_edited=[]\n",
    "for item in time_string:\n",
    "    item2=item.replace(\" +0000\",\"\")\n",
    "    time_edited.append(item2)\n",
    "    "
   ]
  },
  {
   "cell_type": "code",
   "execution_count": null,
   "metadata": {},
   "outputs": [],
   "source": [
    "trump2[\"Created at\"]=time_edited\n",
    "trump2['Created at'] =  pd.to_datetime(trump2['Created at'], infer_datetime_format=True)"
   ]
  },
  {
   "cell_type": "code",
   "execution_count": null,
   "metadata": {},
   "outputs": [],
   "source": [
    "trump2['date'] = trump2['Created at'].dt.date\n",
    "#most frequent dates most are from the same day, wil lscreq axis if not all from the same day \n",
    "date = pd.DataFrame(trump2.groupby(\"date\")[\"Frequency\"].count())\n",
    "date=date.sort_values(by='Frequency', ascending=False)\n",
    "#to keep majority of the graph, only display one day of data\n",
    "date=date.head(1)\n",
    "day=date.index.values[0]\n",
    "\n"
   ]
  },
  {
   "cell_type": "code",
   "execution_count": null,
   "metadata": {},
   "outputs": [],
   "source": [
    "edited_time_df=trump2.loc[trump2[\"date\"]==day, [\"date\", \"Created at\", \"Screen Name\", \"Tweet Text\", \"sentiment\", \"Frequency\"]]\n",
    "edited=edited_time_df.sort_values(by='Created at')\n",
    "edited=edited.rename(columns={\"Created at\": \"datetime\"})\n",
    "edited=edited.drop(columns=['date'])"
   ]
  },
  {
   "cell_type": "code",
   "execution_count": null,
   "metadata": {},
   "outputs": [],
   "source": [
    "#json positive sentiment\n",
    "only_positive = edited.loc[edited[\"sentiment\"] == \"positive\", :]\n",
    "positive_frequency=only_positive[[\"datetime\", \"Frequency\"]]\n",
    "only_positive=positive_frequency.resample('0.05T', on='datetime').sum()\n",
    "only_positive=only_positive.reset_index()"
   ]
  },
  {
   "cell_type": "code",
   "execution_count": 10,
   "metadata": {},
   "outputs": [
    {
     "data": {
      "text/html": [
       "<div>\n",
       "<style scoped>\n",
       "    .dataframe tbody tr th:only-of-type {\n",
       "        vertical-align: middle;\n",
       "    }\n",
       "\n",
       "    .dataframe tbody tr th {\n",
       "        vertical-align: top;\n",
       "    }\n",
       "\n",
       "    .dataframe thead th {\n",
       "        text-align: right;\n",
       "    }\n",
       "</style>\n",
       "<table border=\"1\" class=\"dataframe\">\n",
       "  <thead>\n",
       "    <tr style=\"text-align: right;\">\n",
       "      <th></th>\n",
       "      <th>datetime</th>\n",
       "      <th>Frequency</th>\n",
       "      <th>sentiment</th>\n",
       "    </tr>\n",
       "  </thead>\n",
       "  <tbody>\n",
       "    <tr>\n",
       "      <th>0</th>\n",
       "      <td>2020-10-29 05:19:18</td>\n",
       "      <td>1</td>\n",
       "      <td>positive</td>\n",
       "    </tr>\n",
       "    <tr>\n",
       "      <th>1</th>\n",
       "      <td>2020-10-29 05:19:21</td>\n",
       "      <td>17</td>\n",
       "      <td>positive</td>\n",
       "    </tr>\n",
       "    <tr>\n",
       "      <th>2</th>\n",
       "      <td>2020-10-29 05:19:24</td>\n",
       "      <td>16</td>\n",
       "      <td>positive</td>\n",
       "    </tr>\n",
       "    <tr>\n",
       "      <th>3</th>\n",
       "      <td>2020-10-29 05:19:27</td>\n",
       "      <td>16</td>\n",
       "      <td>positive</td>\n",
       "    </tr>\n",
       "    <tr>\n",
       "      <th>4</th>\n",
       "      <td>2020-10-29 05:19:30</td>\n",
       "      <td>21</td>\n",
       "      <td>positive</td>\n",
       "    </tr>\n",
       "    <tr>\n",
       "      <th>5</th>\n",
       "      <td>2020-10-29 05:19:33</td>\n",
       "      <td>16</td>\n",
       "      <td>positive</td>\n",
       "    </tr>\n",
       "    <tr>\n",
       "      <th>6</th>\n",
       "      <td>2020-10-29 05:19:36</td>\n",
       "      <td>17</td>\n",
       "      <td>positive</td>\n",
       "    </tr>\n",
       "    <tr>\n",
       "      <th>7</th>\n",
       "      <td>2020-10-29 05:19:39</td>\n",
       "      <td>18</td>\n",
       "      <td>positive</td>\n",
       "    </tr>\n",
       "    <tr>\n",
       "      <th>8</th>\n",
       "      <td>2020-10-29 05:19:42</td>\n",
       "      <td>26</td>\n",
       "      <td>positive</td>\n",
       "    </tr>\n",
       "    <tr>\n",
       "      <th>9</th>\n",
       "      <td>2020-10-29 05:19:45</td>\n",
       "      <td>16</td>\n",
       "      <td>positive</td>\n",
       "    </tr>\n",
       "    <tr>\n",
       "      <th>10</th>\n",
       "      <td>2020-10-29 05:19:48</td>\n",
       "      <td>23</td>\n",
       "      <td>positive</td>\n",
       "    </tr>\n",
       "  </tbody>\n",
       "</table>\n",
       "</div>"
      ],
      "text/plain": [
       "              datetime  Frequency sentiment\n",
       "0  2020-10-29 05:19:18          1  positive\n",
       "1  2020-10-29 05:19:21         17  positive\n",
       "2  2020-10-29 05:19:24         16  positive\n",
       "3  2020-10-29 05:19:27         16  positive\n",
       "4  2020-10-29 05:19:30         21  positive\n",
       "5  2020-10-29 05:19:33         16  positive\n",
       "6  2020-10-29 05:19:36         17  positive\n",
       "7  2020-10-29 05:19:39         18  positive\n",
       "8  2020-10-29 05:19:42         26  positive\n",
       "9  2020-10-29 05:19:45         16  positive\n",
       "10 2020-10-29 05:19:48         23  positive"
      ]
     },
     "execution_count": 10,
     "metadata": {},
     "output_type": "execute_result"
    }
   ],
   "source": [
    "only_positive[\"sentiment\"]=\"positive\"\n",
    "only_positive"
   ]
  },
  {
   "cell_type": "code",
   "execution_count": 11,
   "metadata": {},
   "outputs": [],
   "source": [
    "#json positive sentiment\n",
    "only_negative = edited.loc[edited[\"sentiment\"] == \"negative\", :]\n",
    "negative_frequency=only_negative[[\"datetime\", \"Frequency\"]]\n",
    "only_negative=negative_frequency.resample('0.05T', on='datetime').sum()\n",
    "only_negative=only_negative.reset_index()"
   ]
  },
  {
   "cell_type": "code",
   "execution_count": 12,
   "metadata": {},
   "outputs": [
    {
     "data": {
      "text/html": [
       "<div>\n",
       "<style scoped>\n",
       "    .dataframe tbody tr th:only-of-type {\n",
       "        vertical-align: middle;\n",
       "    }\n",
       "\n",
       "    .dataframe tbody tr th {\n",
       "        vertical-align: top;\n",
       "    }\n",
       "\n",
       "    .dataframe thead th {\n",
       "        text-align: right;\n",
       "    }\n",
       "</style>\n",
       "<table border=\"1\" class=\"dataframe\">\n",
       "  <thead>\n",
       "    <tr style=\"text-align: right;\">\n",
       "      <th></th>\n",
       "      <th>datetime</th>\n",
       "      <th>Frequency</th>\n",
       "      <th>sentiment</th>\n",
       "    </tr>\n",
       "  </thead>\n",
       "  <tbody>\n",
       "    <tr>\n",
       "      <th>0</th>\n",
       "      <td>2020-10-29 05:19:18</td>\n",
       "      <td>1</td>\n",
       "      <td>negative</td>\n",
       "    </tr>\n",
       "    <tr>\n",
       "      <th>1</th>\n",
       "      <td>2020-10-29 05:19:21</td>\n",
       "      <td>21</td>\n",
       "      <td>negative</td>\n",
       "    </tr>\n",
       "    <tr>\n",
       "      <th>2</th>\n",
       "      <td>2020-10-29 05:19:24</td>\n",
       "      <td>23</td>\n",
       "      <td>negative</td>\n",
       "    </tr>\n",
       "    <tr>\n",
       "      <th>3</th>\n",
       "      <td>2020-10-29 05:19:27</td>\n",
       "      <td>25</td>\n",
       "      <td>negative</td>\n",
       "    </tr>\n",
       "    <tr>\n",
       "      <th>4</th>\n",
       "      <td>2020-10-29 05:19:30</td>\n",
       "      <td>27</td>\n",
       "      <td>negative</td>\n",
       "    </tr>\n",
       "    <tr>\n",
       "      <th>5</th>\n",
       "      <td>2020-10-29 05:19:33</td>\n",
       "      <td>19</td>\n",
       "      <td>negative</td>\n",
       "    </tr>\n",
       "    <tr>\n",
       "      <th>6</th>\n",
       "      <td>2020-10-29 05:19:36</td>\n",
       "      <td>23</td>\n",
       "      <td>negative</td>\n",
       "    </tr>\n",
       "    <tr>\n",
       "      <th>7</th>\n",
       "      <td>2020-10-29 05:19:39</td>\n",
       "      <td>27</td>\n",
       "      <td>negative</td>\n",
       "    </tr>\n",
       "    <tr>\n",
       "      <th>8</th>\n",
       "      <td>2020-10-29 05:19:42</td>\n",
       "      <td>18</td>\n",
       "      <td>negative</td>\n",
       "    </tr>\n",
       "    <tr>\n",
       "      <th>9</th>\n",
       "      <td>2020-10-29 05:19:45</td>\n",
       "      <td>28</td>\n",
       "      <td>negative</td>\n",
       "    </tr>\n",
       "    <tr>\n",
       "      <th>10</th>\n",
       "      <td>2020-10-29 05:19:48</td>\n",
       "      <td>20</td>\n",
       "      <td>negative</td>\n",
       "    </tr>\n",
       "  </tbody>\n",
       "</table>\n",
       "</div>"
      ],
      "text/plain": [
       "              datetime  Frequency sentiment\n",
       "0  2020-10-29 05:19:18          1  negative\n",
       "1  2020-10-29 05:19:21         21  negative\n",
       "2  2020-10-29 05:19:24         23  negative\n",
       "3  2020-10-29 05:19:27         25  negative\n",
       "4  2020-10-29 05:19:30         27  negative\n",
       "5  2020-10-29 05:19:33         19  negative\n",
       "6  2020-10-29 05:19:36         23  negative\n",
       "7  2020-10-29 05:19:39         27  negative\n",
       "8  2020-10-29 05:19:42         18  negative\n",
       "9  2020-10-29 05:19:45         28  negative\n",
       "10 2020-10-29 05:19:48         20  negative"
      ]
     },
     "execution_count": 12,
     "metadata": {},
     "output_type": "execute_result"
    }
   ],
   "source": [
    "only_negative[\"sentiment\"]=\"negative\"\n",
    "only_negative"
   ]
  },
  {
   "cell_type": "code",
   "execution_count": 13,
   "metadata": {},
   "outputs": [],
   "source": [
    "frames=[only_positive, only_negative]\n",
    "sentiment_concat=pd.concat(frames)\n",
    "sentiment_concat['datetime']=sentiment_concat['datetime'].astype(str)"
   ]
  },
  {
   "cell_type": "code",
   "execution_count": 14,
   "metadata": {},
   "outputs": [
    {
     "data": {
      "text/html": [
       "<div>\n",
       "<style scoped>\n",
       "    .dataframe tbody tr th:only-of-type {\n",
       "        vertical-align: middle;\n",
       "    }\n",
       "\n",
       "    .dataframe tbody tr th {\n",
       "        vertical-align: top;\n",
       "    }\n",
       "\n",
       "    .dataframe thead th {\n",
       "        text-align: right;\n",
       "    }\n",
       "</style>\n",
       "<table border=\"1\" class=\"dataframe\">\n",
       "  <thead>\n",
       "    <tr style=\"text-align: right;\">\n",
       "      <th></th>\n",
       "      <th></th>\n",
       "      <th>Frequency</th>\n",
       "    </tr>\n",
       "    <tr>\n",
       "      <th>sentiment</th>\n",
       "      <th>datetime</th>\n",
       "      <th></th>\n",
       "    </tr>\n",
       "  </thead>\n",
       "  <tbody>\n",
       "    <tr>\n",
       "      <th rowspan=\"11\" valign=\"top\">negative</th>\n",
       "      <th>2020-10-29 05:19:18</th>\n",
       "      <td>1</td>\n",
       "    </tr>\n",
       "    <tr>\n",
       "      <th>2020-10-29 05:19:21</th>\n",
       "      <td>21</td>\n",
       "    </tr>\n",
       "    <tr>\n",
       "      <th>2020-10-29 05:19:24</th>\n",
       "      <td>23</td>\n",
       "    </tr>\n",
       "    <tr>\n",
       "      <th>2020-10-29 05:19:27</th>\n",
       "      <td>25</td>\n",
       "    </tr>\n",
       "    <tr>\n",
       "      <th>2020-10-29 05:19:30</th>\n",
       "      <td>27</td>\n",
       "    </tr>\n",
       "    <tr>\n",
       "      <th>2020-10-29 05:19:33</th>\n",
       "      <td>19</td>\n",
       "    </tr>\n",
       "    <tr>\n",
       "      <th>2020-10-29 05:19:36</th>\n",
       "      <td>23</td>\n",
       "    </tr>\n",
       "    <tr>\n",
       "      <th>2020-10-29 05:19:39</th>\n",
       "      <td>27</td>\n",
       "    </tr>\n",
       "    <tr>\n",
       "      <th>2020-10-29 05:19:42</th>\n",
       "      <td>18</td>\n",
       "    </tr>\n",
       "    <tr>\n",
       "      <th>2020-10-29 05:19:45</th>\n",
       "      <td>28</td>\n",
       "    </tr>\n",
       "    <tr>\n",
       "      <th>2020-10-29 05:19:48</th>\n",
       "      <td>20</td>\n",
       "    </tr>\n",
       "    <tr>\n",
       "      <th rowspan=\"11\" valign=\"top\">positive</th>\n",
       "      <th>2020-10-29 05:19:18</th>\n",
       "      <td>1</td>\n",
       "    </tr>\n",
       "    <tr>\n",
       "      <th>2020-10-29 05:19:21</th>\n",
       "      <td>17</td>\n",
       "    </tr>\n",
       "    <tr>\n",
       "      <th>2020-10-29 05:19:24</th>\n",
       "      <td>16</td>\n",
       "    </tr>\n",
       "    <tr>\n",
       "      <th>2020-10-29 05:19:27</th>\n",
       "      <td>16</td>\n",
       "    </tr>\n",
       "    <tr>\n",
       "      <th>2020-10-29 05:19:30</th>\n",
       "      <td>21</td>\n",
       "    </tr>\n",
       "    <tr>\n",
       "      <th>2020-10-29 05:19:33</th>\n",
       "      <td>16</td>\n",
       "    </tr>\n",
       "    <tr>\n",
       "      <th>2020-10-29 05:19:36</th>\n",
       "      <td>17</td>\n",
       "    </tr>\n",
       "    <tr>\n",
       "      <th>2020-10-29 05:19:39</th>\n",
       "      <td>18</td>\n",
       "    </tr>\n",
       "    <tr>\n",
       "      <th>2020-10-29 05:19:42</th>\n",
       "      <td>26</td>\n",
       "    </tr>\n",
       "    <tr>\n",
       "      <th>2020-10-29 05:19:45</th>\n",
       "      <td>16</td>\n",
       "    </tr>\n",
       "    <tr>\n",
       "      <th>2020-10-29 05:19:48</th>\n",
       "      <td>23</td>\n",
       "    </tr>\n",
       "  </tbody>\n",
       "</table>\n",
       "</div>"
      ],
      "text/plain": [
       "                               Frequency\n",
       "sentiment datetime                      \n",
       "negative  2020-10-29 05:19:18          1\n",
       "          2020-10-29 05:19:21         21\n",
       "          2020-10-29 05:19:24         23\n",
       "          2020-10-29 05:19:27         25\n",
       "          2020-10-29 05:19:30         27\n",
       "          2020-10-29 05:19:33         19\n",
       "          2020-10-29 05:19:36         23\n",
       "          2020-10-29 05:19:39         27\n",
       "          2020-10-29 05:19:42         18\n",
       "          2020-10-29 05:19:45         28\n",
       "          2020-10-29 05:19:48         20\n",
       "positive  2020-10-29 05:19:18          1\n",
       "          2020-10-29 05:19:21         17\n",
       "          2020-10-29 05:19:24         16\n",
       "          2020-10-29 05:19:27         16\n",
       "          2020-10-29 05:19:30         21\n",
       "          2020-10-29 05:19:33         16\n",
       "          2020-10-29 05:19:36         17\n",
       "          2020-10-29 05:19:39         18\n",
       "          2020-10-29 05:19:42         26\n",
       "          2020-10-29 05:19:45         16\n",
       "          2020-10-29 05:19:48         23"
      ]
     },
     "execution_count": 14,
     "metadata": {},
     "output_type": "execute_result"
    }
   ],
   "source": [
    "sentiment_group = sentiment_concat.groupby(['sentiment', \"datetime\"])\n",
    "sentiment_group_2=pd.DataFrame(sentiment_group[\"Frequency\"].sum())\n",
    "sentiment_group_2\n"
   ]
  },
  {
   "cell_type": "code",
   "execution_count": 15,
   "metadata": {},
   "outputs": [],
   "source": [
    "results1 = defaultdict(lambda: defaultdict(dict))\n",
    "\n",
    "for index, value in sentiment_group_2.itertuples():\n",
    "    for i, key in enumerate(index):\n",
    "        if i == 0:\n",
    "            nested = results1[key]\n",
    "        elif i == len(index) - 1:\n",
    "            nested[key] = value\n",
    "        else:\n",
    "            nested = nested[key] "
   ]
  },
  {
   "cell_type": "code",
   "execution_count": 16,
   "metadata": {},
   "outputs": [],
   "source": [
    "json_list.append(results1)"
   ]
  },
  {
   "cell_type": "code",
   "execution_count": 17,
   "metadata": {},
   "outputs": [],
   "source": [
    "def negative_tweets(dataset):\n",
    "    negative=dataset.loc[trump2['sentiment'] == \"negative\", ['Tweet Text']]\n",
    "    negative_list=negative[\"Tweet Text\"].to_list()\n",
    "    return negative_list\n",
    "    "
   ]
  },
  {
   "cell_type": "code",
   "execution_count": 18,
   "metadata": {},
   "outputs": [],
   "source": [
    "def positive_tweets(dataset):\n",
    "    positive=dataset.loc[trump2['sentiment'] == \"positive\", ['Tweet Text']]\n",
    "    positive_list=positive[\"Tweet Text\"].to_list()\n",
    "    return positive_list\n",
    "    "
   ]
  },
  {
   "cell_type": "code",
   "execution_count": 19,
   "metadata": {},
   "outputs": [],
   "source": [
    "#edit all the tweet texts \n",
    "\n",
    "def edit_tweets(trump_tweets):\n",
    "    trump_tweets = ''.join(trump_tweets)\n",
    "    no_links = re.sub(r'http\\S+', '', trump_tweets)\n",
    "    no_unicode = re.sub(r\"\\\\[a-z][a-z]?[0-9]+\", '', no_links)\n",
    "    no_special_characters = re.sub('[^A-Za-z ]+', '', no_unicode)\n",
    "    \n",
    "    words = no_special_characters.split(\" \")\n",
    "    words = [w for w in words if len(w) > 2]  # ignore a, an, be, ...\n",
    "    words = [w.lower() for w in words]\n",
    "    words = [w for w in words if w not in STOPWORDS]\n",
    "    \n",
    "    return(words)   \n"
   ]
  },
  {
   "cell_type": "code",
   "execution_count": 20,
   "metadata": {},
   "outputs": [],
   "source": [
    "\n",
    "def remove_name(words):\n",
    "    edited_word=[]\n",
    "    for word in words:\n",
    "        if ('donald')not in word:\n",
    "            word1=word\n",
    "        if ('trump')not in word1:\n",
    "            edited_word.append(word1)\n",
    "    return edited_word    "
   ]
  },
  {
   "cell_type": "code",
   "execution_count": 21,
   "metadata": {},
   "outputs": [],
   "source": [
    "trump_negative_list=negative_tweets(trump2)\n",
    "trump_positive_list=positive_tweets(trump2)"
   ]
  },
  {
   "cell_type": "code",
   "execution_count": 22,
   "metadata": {},
   "outputs": [],
   "source": [
    "positive1=edit_tweets(trump_positive_list)\n",
    "positive2=remove_name(positive1)\n"
   ]
  },
  {
   "cell_type": "code",
   "execution_count": 23,
   "metadata": {},
   "outputs": [],
   "source": [
    "mask = np.array(Image.open('thumbs_up.jpg'))"
   ]
  },
  {
   "cell_type": "code",
   "execution_count": 24,
   "metadata": {},
   "outputs": [
    {
     "data": {
      "text/plain": [
       "<wordcloud.wordcloud.WordCloud at 0x11984c9d0>"
      ]
     },
     "execution_count": 24,
     "metadata": {},
     "output_type": "execute_result"
    }
   ],
   "source": [
    "wc = WordCloud(background_color=\"white\", max_words=2000, mask=mask)\n",
    "clean_string = ','.join(positive2)\n",
    "wc.generate(clean_string)"
   ]
  },
  {
   "cell_type": "code",
   "execution_count": 25,
   "metadata": {},
   "outputs": [
    {
     "data": {
      "image/png": "[encoded data removed]",
      "text/plain": [
       "<Figure size 432x288 with 1 Axes>"
      ]
     },
     "metadata": {
      "needs_background": "light"
     },
     "output_type": "display_data"
    }
   ],
   "source": [
    "\n",
    "plt.imshow(wc, interpolation='bilinear')\n",
    "plt.axis(\"off\")\n",
    "plt.savefig('positive_trump.png')\n",
    "plt.show()\n"
   ]
  },
  {
   "cell_type": "code",
   "execution_count": 26,
   "metadata": {},
   "outputs": [],
   "source": [
    "negative1=edit_tweets(trump_negative_list)\n",
    "negative2=remove_name(negative1)\n"
   ]
  },
  {
   "cell_type": "code",
   "execution_count": 27,
   "metadata": {},
   "outputs": [],
   "source": [
    "mask2=np.array(Image.open('thumbs_down.jpg'))"
   ]
  },
  {
   "cell_type": "code",
   "execution_count": 28,
   "metadata": {},
   "outputs": [
    {
     "data": {
      "text/plain": [
       "<wordcloud.wordcloud.WordCloud at 0x119c35510>"
      ]
     },
     "execution_count": 28,
     "metadata": {},
     "output_type": "execute_result"
    }
   ],
   "source": [
    "wc = WordCloud(background_color=\"white\", max_words=2000, mask=mask2)\n",
    "clean_string = ','.join(negative2)\n",
    "wc.generate(clean_string)"
   ]
  },
  {
   "cell_type": "code",
   "execution_count": 29,
   "metadata": {},
   "outputs": [
    {
     "data": {
      "image/png": "[encoded data removed]",
      "text/plain": [
       "<Figure size 432x288 with 1 Axes>"
      ]
     },
     "metadata": {
      "needs_background": "light"
     },
     "output_type": "display_data"
    }
   ],
   "source": [
    "plt.imshow(wc, interpolation='bilinear')\n",
    "plt.axis(\"off\")\n",
    "plt.savefig('negative_trump.png')\n",
    "plt.show()"
   ]
  },
  {
   "cell_type": "code",
   "execution_count": 30,
   "metadata": {},
   "outputs": [],
   "source": [
    "#word count completed \n",
    "trump_wc={\"Positive_wc\":'positive_trump.png', \"Negative_wc\":'negative_trump.png'}\n",
    "#putting it in a dataset \n",
    "\n",
    "json_list.append(trump_wc)"
   ]
  },
  {
   "cell_type": "code",
   "execution_count": 31,
   "metadata": {},
   "outputs": [
    {
     "data": {
      "text/plain": [
       "[defaultdict(<function __main__.<lambda>()>,\n",
       "             {'negative': defaultdict(dict,\n",
       "                          {'2020-10-29 05:19:18': 1,\n",
       "                           '2020-10-29 05:19:21': 21,\n",
       "                           '2020-10-29 05:19:24': 23,\n",
       "                           '2020-10-29 05:19:27': 25,\n",
       "                           '2020-10-29 05:19:30': 27,\n",
       "                           '2020-10-29 05:19:33': 19,\n",
       "                           '2020-10-29 05:19:36': 23,\n",
       "                           '2020-10-29 05:19:39': 27,\n",
       "                           '2020-10-29 05:19:42': 18,\n",
       "                           '2020-10-29 05:19:45': 28,\n",
       "                           '2020-10-29 05:19:48': 20}),\n",
       "              'positive': defaultdict(dict,\n",
       "                          {'2020-10-29 05:19:18': 1,\n",
       "                           '2020-10-29 05:19:21': 17,\n",
       "                           '2020-10-29 05:19:24': 16,\n",
       "                           '2020-10-29 05:19:27': 16,\n",
       "                           '2020-10-29 05:19:30': 21,\n",
       "                           '2020-10-29 05:19:33': 16,\n",
       "                           '2020-10-29 05:19:36': 17,\n",
       "                           '2020-10-29 05:19:39': 18,\n",
       "                           '2020-10-29 05:19:42': 26,\n",
       "                           '2020-10-29 05:19:45': 16,\n",
       "                           '2020-10-29 05:19:48': 23})}),\n",
       " {'Positive_wc': 'positive_trump.png', 'Negative_wc': 'negative_trump.png'}]"
      ]
     },
     "execution_count": 31,
     "metadata": {},
     "output_type": "execute_result"
    }
   ],
   "source": [
    "json_list"
   ]
  },
  {
   "cell_type": "code",
   "execution_count": 32,
   "metadata": {},
   "outputs": [],
   "source": [
    "#obtaining panel \n",
    "sentiment = trump2.groupby(\"sentiment\")[\"Frequency\"].count()\n",
    "total_sentiment=trump2[\"sentiment\"].count()\n",
    "percentage_sentiment=((sentiment/total_sentiment)*100).round()"
   ]
  },
  {
   "cell_type": "code",
   "execution_count": 33,
   "metadata": {},
   "outputs": [
    {
     "data": {
      "text/plain": [
       "sentiment\n",
       "negative    55.0\n",
       "positive    45.0\n",
       "Name: Frequency, dtype: float64"
      ]
     },
     "execution_count": 33,
     "metadata": {},
     "output_type": "execute_result"
    }
   ],
   "source": [
    "percentage_sentiment\n"
   ]
  },
  {
   "cell_type": "code",
   "execution_count": 34,
   "metadata": {},
   "outputs": [],
   "source": [
    "percentage_dict=percentage_sentiment.to_dict()\n",
    "json_list.append(percentage_dict)"
   ]
  },
  {
   "cell_type": "code",
   "execution_count": 35,
   "metadata": {},
   "outputs": [],
   "source": [
    "#most frequent users \n",
    "frequent_twitters=sentiment = trump2.groupby(\"Screen Name\")[\"Frequency\"].count()"
   ]
  },
  {
   "cell_type": "code",
   "execution_count": 36,
   "metadata": {},
   "outputs": [],
   "source": [
    "frequent_twitters=pd.DataFrame(frequent_twitters)\n",
    "frequency_sort=frequent_twitters.sort_values(by='Frequency', ascending=False).head(50)\n",
    "frequent_users=pd.DataFrame(frequency_sort.loc[frequency_sort[\"Frequency\"]>1,])"
   ]
  },
  {
   "cell_type": "code",
   "execution_count": 37,
   "metadata": {},
   "outputs": [],
   "source": [
    "\n",
    "#editing the time column string and converting it into date and time\n",
    "frequent_users=frequent_users.to_dict('dict')\n",
    "json_list.append(frequent_users)"
   ]
  },
  {
   "cell_type": "code",
   "execution_count": 38,
   "metadata": {},
   "outputs": [
    {
     "data": {
      "text/plain": [
       "[defaultdict(<function __main__.<lambda>()>,\n",
       "             {'negative': defaultdict(dict,\n",
       "                          {'2020-10-29 05:19:18': 1,\n",
       "                           '2020-10-29 05:19:21': 21,\n",
       "                           '2020-10-29 05:19:24': 23,\n",
       "                           '2020-10-29 05:19:27': 25,\n",
       "                           '2020-10-29 05:19:30': 27,\n",
       "                           '2020-10-29 05:19:33': 19,\n",
       "                           '2020-10-29 05:19:36': 23,\n",
       "                           '2020-10-29 05:19:39': 27,\n",
       "                           '2020-10-29 05:19:42': 18,\n",
       "                           '2020-10-29 05:19:45': 28,\n",
       "                           '2020-10-29 05:19:48': 20}),\n",
       "              'positive': defaultdict(dict,\n",
       "                          {'2020-10-29 05:19:18': 1,\n",
       "                           '2020-10-29 05:19:21': 17,\n",
       "                           '2020-10-29 05:19:24': 16,\n",
       "                           '2020-10-29 05:19:27': 16,\n",
       "                           '2020-10-29 05:19:30': 21,\n",
       "                           '2020-10-29 05:19:33': 16,\n",
       "                           '2020-10-29 05:19:36': 17,\n",
       "                           '2020-10-29 05:19:39': 18,\n",
       "                           '2020-10-29 05:19:42': 26,\n",
       "                           '2020-10-29 05:19:45': 16,\n",
       "                           '2020-10-29 05:19:48': 23})}),\n",
       " {'Positive_wc': 'positive_trump.png', 'Negative_wc': 'negative_trump.png'},\n",
       " {'negative': 55.0, 'positive': 45.0},\n",
       " {'Frequency': {'DeltaFo33823525': 6,\n",
       "   'genxdawg': 2,\n",
       "   'DipaoloGeno': 2,\n",
       "   'MFrance923': 2,\n",
       "   'chrisDrozier1': 2,\n",
       "   'moonlitangels21': 2,\n",
       "   'OurStorynLegacy': 2,\n",
       "   'utopianindigent': 2,\n",
       "   'cme7777': 2,\n",
       "   'afraidformyus': 2,\n",
       "   'TheVictoryTour': 2}}]"
      ]
     },
     "execution_count": 38,
     "metadata": {},
     "output_type": "execute_result"
    }
   ],
   "source": [
    "json_list"
   ]
  },
  {
   "cell_type": "code",
   "execution_count": 39,
   "metadata": {},
   "outputs": [],
   "source": [
    "with open('twitter_data.json', 'w') as fp:\n",
    "    json.dump(json_list, fp)"
   ]
  },
  {
   "cell_type": "code",
   "execution_count": null,
   "metadata": {},
   "outputs": [],
   "source": []
  },
  {
   "cell_type": "code",
   "execution_count": null,
   "metadata": {},
   "outputs": [],
   "source": []
  }
 ],
 "metadata": {
  "kernelspec": {
   "display_name": "Python 3",
   "language": "python",
   "name": "python3"
  },
  "language_info": {
   "codemirror_mode": {
    "name": "ipython",
    "version": 3
   },
   "file_extension": ".py",
   "mimetype": "text/x-python",
   "name": "python",
   "nbconvert_exporter": "python",
   "pygments_lexer": "ipython3",
   "version": "3.7.6"
  }
 },
 "nbformat": 4,
 "nbformat_minor": 4
}
