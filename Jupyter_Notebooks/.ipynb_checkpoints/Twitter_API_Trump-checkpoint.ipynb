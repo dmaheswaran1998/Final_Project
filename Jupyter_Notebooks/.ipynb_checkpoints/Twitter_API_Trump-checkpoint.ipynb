{
 "cells": [
  {
   "cell_type": "code",
   "execution_count": 1,
   "metadata": {},
   "outputs": [],
   "source": [
    "import twitter\n",
    "import pandas as pd\n",
    "import csv\n",
    "import time\n",
    "import numpy as np\n"
   ]
  },
  {
   "cell_type": "code",
   "execution_count": 2,
   "metadata": {},
   "outputs": [
    {
     "name": "stdout",
     "output_type": "stream",
     "text": [
      "{\"created_at\": \"Tue Oct 20 23:54:59 +0000 2020\", \"default_profile\": true, \"default_profile_image\": true, \"id\": 1318702260596006912, \"id_str\": \"1318702260596006912\", \"name\": \"Dhanya Maheswaran\", \"profile_background_color\": \"F5F8FA\", \"profile_image_url\": \"http://abs.twimg.com/sticky/default_profile_images/default_profile_normal.png\", \"profile_image_url_https\": \"https://abs.twimg.com/sticky/default_profile_images/default_profile_normal.png\", \"profile_link_color\": \"1DA1F2\", \"profile_sidebar_border_color\": \"C0DEED\", \"profile_sidebar_fill_color\": \"DDEEF6\", \"profile_text_color\": \"333333\", \"profile_use_background_image\": true, \"screen_name\": \"DhanyaMaheswar1\"}\n"
     ]
    }
   ],
   "source": [
    "#initialise the API for twitter\n",
    "\n",
    "twitter_api = twitter.Api(consumer_key='SyYb53RgRe2yovpNkbRLQWMLf',\n",
    "                        consumer_secret='YxOG1Vs8mdUtgNI5dJqXSAIbKYm4fl0D8BgWcAQt8z6fLqxZKx',\n",
    "                        access_token_key='1318702260596006912-nSG7CBJZHBAnwDQABFc4J8HOaNBwKL',\n",
    "                        access_token_secret='mkabBMLcYMdRNFSPEvav5OEWFjBWImsCBTGsRnewEOr8q')\n",
    "\n",
    "# test authentication\n",
    "print(twitter_api.VerifyCredentials())"
   ]
  },
  {
   "cell_type": "code",
   "execution_count": 3,
   "metadata": {},
   "outputs": [],
   "source": [
    "#first 100 tweets\n",
    "try:\n",
    "    trump_tweets_1= twitter_api.GetSearch('trump', count = 100, lang='en')\n",
    "    id_1=(len(trump_tweets_1))\n",
    "    id_1=trump_tweets_1[id_1-1].id\n",
    "\n",
    "except:\n",
    "    print(\"there is an error\")\n"
   ]
  },
  {
   "cell_type": "code",
   "execution_count": 4,
   "metadata": {},
   "outputs": [
    {
     "name": "stdout",
     "output_type": "stream",
     "text": [
      "89\n"
     ]
    }
   ],
   "source": [
    "trump_tweets=trump_tweets_1\n",
    "print(len(trump_tweets))"
   ]
  },
  {
   "cell_type": "code",
   "execution_count": 5,
   "metadata": {},
   "outputs": [],
   "source": [
    "    text_tweets=[]\n",
    "    tweet_id=[]\n",
    "    tweet_screenname=[]\n",
    "    tweet_time=[]\n",
    "    for x in range(0,len(trump_tweets)):\n",
    "        text=trump_tweets[x].text\n",
    "        text_tweets.append(text)\n",
    "\n",
    "            #getting tweet id\n",
    "        id=trump_tweets[x].id\n",
    "        tweet_id.append(id)\n",
    "\n",
    "            #getting tweet handle \n",
    "        name=trump_tweets[x].user.screen_name\n",
    "        tweet_screenname.append(name)\n",
    "\n",
    "            #getting tweet time:\n",
    "        time=trump_tweets[x].created_at\n",
    "        tweet_time.append(time)\n",
    "            #getting text language\n",
    "            \n"
   ]
  },
  {
   "cell_type": "code",
   "execution_count": 6,
   "metadata": {},
   "outputs": [],
   "source": [
    "#putting all the trump tweets into a dataframe \n",
    "\n",
    "trump_tweets_df=pd.DataFrame({'id': tweet_id, 'Created at' : tweet_time, 'Screen Name': tweet_screenname, \"Tweet Text\": text_tweets})\n",
    "\n",
    "\n"
   ]
  },
  {
   "cell_type": "code",
   "execution_count": 7,
   "metadata": {},
   "outputs": [
    {
     "data": {
      "text/plain": [
       "id             89\n",
       "Created at      7\n",
       "Screen Name    89\n",
       "Tweet Text     86\n",
       "dtype: int64"
      ]
     },
     "execution_count": 7,
     "metadata": {},
     "output_type": "execute_result"
    }
   ],
   "source": [
    "trump_tweets_df.nunique()"
   ]
  },
  {
   "cell_type": "code",
   "execution_count": 8,
   "metadata": {},
   "outputs": [],
   "source": [
    "#dropping tweets that have duplicate text\n",
    "trump_tweets_df=trump_tweets_df.drop_duplicates(subset=['Tweet Text'])"
   ]
  },
  {
   "cell_type": "code",
   "execution_count": 12,
   "metadata": {},
   "outputs": [],
   "source": [
    "trump_tweets_df.to_csv(\"../data/trump_tweets_scraped.csv\")"
   ]
  },
  {
   "cell_type": "code",
   "execution_count": 13,
   "metadata": {},
   "outputs": [
    {
     "data": {
      "text/html": [
       "<div>\n",
       "<style scoped>\n",
       "    .dataframe tbody tr th:only-of-type {\n",
       "        vertical-align: middle;\n",
       "    }\n",
       "\n",
       "    .dataframe tbody tr th {\n",
       "        vertical-align: top;\n",
       "    }\n",
       "\n",
       "    .dataframe thead th {\n",
       "        text-align: right;\n",
       "    }\n",
       "</style>\n",
       "<table border=\"1\" class=\"dataframe\">\n",
       "  <thead>\n",
       "    <tr style=\"text-align: right;\">\n",
       "      <th></th>\n",
       "      <th>id</th>\n",
       "      <th>Created at</th>\n",
       "      <th>Screen Name</th>\n",
       "      <th>Tweet Text</th>\n",
       "    </tr>\n",
       "  </thead>\n",
       "  <tbody>\n",
       "    <tr>\n",
       "      <th>0</th>\n",
       "      <td>1321860390100201474</td>\n",
       "      <td>Thu Oct 29 17:04:10 +0000 2020</td>\n",
       "      <td>RealJamesWoods</td>\n",
       "      <td>This smug little number saying her company, #G...</td>\n",
       "    </tr>\n",
       "    <tr>\n",
       "      <th>1</th>\n",
       "      <td>1321692442983366656</td>\n",
       "      <td>Thu Oct 29 05:56:48 +0000 2020</td>\n",
       "      <td>SethAbramson</td>\n",
       "      <td>As good an ad about Trump as I've seen. I hope...</td>\n",
       "    </tr>\n",
       "    <tr>\n",
       "      <th>2</th>\n",
       "      <td>1321614388558745600</td>\n",
       "      <td>Thu Oct 29 00:46:39 +0000 2020</td>\n",
       "      <td>PeteButtigieg</td>\n",
       "      <td>Trump's rallies are a metaphor for how he view...</td>\n",
       "    </tr>\n",
       "    <tr>\n",
       "      <th>3</th>\n",
       "      <td>1322010410174849025</td>\n",
       "      <td>Fri Oct 30 03:00:18 +0000 2020</td>\n",
       "      <td>bflyjesusgrl</td>\n",
       "      <td>RT @TeamTrump: WATCH: @IngrahamAngle on The GR...</td>\n",
       "    </tr>\n",
       "    <tr>\n",
       "      <th>4</th>\n",
       "      <td>1322010410011316224</td>\n",
       "      <td>Fri Oct 30 03:00:18 +0000 2020</td>\n",
       "      <td>um_cloudy</td>\n",
       "      <td>@censors68769010 Chris Balding, donald trump, ...</td>\n",
       "    </tr>\n",
       "    <tr>\n",
       "      <th>...</th>\n",
       "      <td>...</td>\n",
       "      <td>...</td>\n",
       "      <td>...</td>\n",
       "      <td>...</td>\n",
       "    </tr>\n",
       "    <tr>\n",
       "      <th>83</th>\n",
       "      <td>1322010400674643968</td>\n",
       "      <td>Fri Oct 30 03:00:15 +0000 2020</td>\n",
       "      <td>Trident__</td>\n",
       "      <td>@AdminWatchdog @joefalck @HillaryClinton \"the ...</td>\n",
       "    </tr>\n",
       "    <tr>\n",
       "      <th>84</th>\n",
       "      <td>1322010400590802949</td>\n",
       "      <td>Fri Oct 30 03:00:15 +0000 2020</td>\n",
       "      <td>NotesFromNasty</td>\n",
       "      <td>RT @fawfulfan: I just realized why the name of...</td>\n",
       "    </tr>\n",
       "    <tr>\n",
       "      <th>86</th>\n",
       "      <td>1322010400574087171</td>\n",
       "      <td>Fri Oct 30 03:00:15 +0000 2020</td>\n",
       "      <td>FrankShepardInc</td>\n",
       "      <td>I wish Trump was just a bigoted president. But...</td>\n",
       "    </tr>\n",
       "    <tr>\n",
       "      <th>87</th>\n",
       "      <td>1322010400389500928</td>\n",
       "      <td>Fri Oct 30 03:00:15 +0000 2020</td>\n",
       "      <td>false_trump</td>\n",
       "      <td>Pocahontas wanted V.P. slot so badly needed! W...</td>\n",
       "    </tr>\n",
       "    <tr>\n",
       "      <th>88</th>\n",
       "      <td>1322010400364335104</td>\n",
       "      <td>Fri Oct 30 03:00:15 +0000 2020</td>\n",
       "      <td>stefenenick</td>\n",
       "      <td>the hope that biden will win is being totally ...</td>\n",
       "    </tr>\n",
       "  </tbody>\n",
       "</table>\n",
       "<p>86 rows × 4 columns</p>\n",
       "</div>"
      ],
      "text/plain": [
       "                     id                      Created at      Screen Name  \\\n",
       "0   1321860390100201474  Thu Oct 29 17:04:10 +0000 2020   RealJamesWoods   \n",
       "1   1321692442983366656  Thu Oct 29 05:56:48 +0000 2020     SethAbramson   \n",
       "2   1321614388558745600  Thu Oct 29 00:46:39 +0000 2020    PeteButtigieg   \n",
       "3   1322010410174849025  Fri Oct 30 03:00:18 +0000 2020     bflyjesusgrl   \n",
       "4   1322010410011316224  Fri Oct 30 03:00:18 +0000 2020        um_cloudy   \n",
       "..                  ...                             ...              ...   \n",
       "83  1322010400674643968  Fri Oct 30 03:00:15 +0000 2020        Trident__   \n",
       "84  1322010400590802949  Fri Oct 30 03:00:15 +0000 2020   NotesFromNasty   \n",
       "86  1322010400574087171  Fri Oct 30 03:00:15 +0000 2020  FrankShepardInc   \n",
       "87  1322010400389500928  Fri Oct 30 03:00:15 +0000 2020      false_trump   \n",
       "88  1322010400364335104  Fri Oct 30 03:00:15 +0000 2020      stefenenick   \n",
       "\n",
       "                                           Tweet Text  \n",
       "0   This smug little number saying her company, #G...  \n",
       "1   As good an ad about Trump as I've seen. I hope...  \n",
       "2   Trump's rallies are a metaphor for how he view...  \n",
       "3   RT @TeamTrump: WATCH: @IngrahamAngle on The GR...  \n",
       "4   @censors68769010 Chris Balding, donald trump, ...  \n",
       "..                                                ...  \n",
       "83  @AdminWatchdog @joefalck @HillaryClinton \"the ...  \n",
       "84  RT @fawfulfan: I just realized why the name of...  \n",
       "86  I wish Trump was just a bigoted president. But...  \n",
       "87  Pocahontas wanted V.P. slot so badly needed! W...  \n",
       "88  the hope that biden will win is being totally ...  \n",
       "\n",
       "[86 rows x 4 columns]"
      ]
     },
     "execution_count": 13,
     "metadata": {},
     "output_type": "execute_result"
    }
   ],
   "source": [
    "trump_tweets_df"
   ]
  },
  {
   "cell_type": "code",
   "execution_count": null,
   "metadata": {},
   "outputs": [],
   "source": []
  }
 ],
 "metadata": {
  "kernelspec": {
   "display_name": "Python 3",
   "language": "python",
   "name": "python3"
  },
  "language_info": {
   "codemirror_mode": {
    "name": "ipython",
    "version": 3
   },
   "file_extension": ".py",
   "mimetype": "text/x-python",
   "name": "python",
   "nbconvert_exporter": "python",
   "pygments_lexer": "ipython3",
   "version": "3.7.6"
  }
 },
 "nbformat": 4,
 "nbformat_minor": 4
}
