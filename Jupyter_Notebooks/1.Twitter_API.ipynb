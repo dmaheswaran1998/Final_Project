{
 "cells": [
  {
   "cell_type": "code",
   "execution_count": 1,
   "metadata": {},
   "outputs": [],
   "source": [
    "import twitter\n",
    "import pandas as pd\n",
    "import csv\n",
    "import time\n",
    "import numpy as np\n"
   ]
  },
  {
   "cell_type": "code",
   "execution_count": 2,
   "metadata": {},
   "outputs": [
    {
     "name": "stdout",
     "output_type": "stream",
     "text": [
      "{\"created_at\": \"Tue Oct 20 23:54:59 +0000 2020\", \"default_profile\": true, \"default_profile_image\": true, \"id\": 1318702260596006912, \"id_str\": \"1318702260596006912\", \"name\": \"Dhanya Maheswaran\", \"profile_background_color\": \"F5F8FA\", \"profile_image_url\": \"http://abs.twimg.com/sticky/default_profile_images/default_profile_normal.png\", \"profile_image_url_https\": \"https://abs.twimg.com/sticky/default_profile_images/default_profile_normal.png\", \"profile_link_color\": \"1DA1F2\", \"profile_sidebar_border_color\": \"C0DEED\", \"profile_sidebar_fill_color\": \"DDEEF6\", \"profile_text_color\": \"333333\", \"profile_use_background_image\": true, \"screen_name\": \"DhanyaMaheswar1\"}\n"
     ]
    }
   ],
   "source": [
    "#initialise the API for twitter\n",
    "\n",
    "twitter_api = twitter.Api(consumer_key='SyYb53RgRe2yovpNkbRLQWMLf',\n",
    "                        consumer_secret='YxOG1Vs8mdUtgNI5dJqXSAIbKYm4fl0D8BgWcAQt8z6fLqxZKx',\n",
    "                        access_token_key='1318702260596006912-nSG7CBJZHBAnwDQABFc4J8HOaNBwKL',\n",
    "                        access_token_secret='mkabBMLcYMdRNFSPEvav5OEWFjBWImsCBTGsRnewEOr8q')\n",
    "\n",
    "# test authentication\n",
    "print(twitter_api.VerifyCredentials())"
   ]
  },
  {
   "cell_type": "code",
   "execution_count": 3,
   "metadata": {},
   "outputs": [],
   "source": [
    "#first 100 tweets\n",
    "try:\n",
    "    trump_tweets_1= twitter_api.GetSearch('trump', count = 100, lang='en')\n",
    "\n",
    "except:\n",
    "    print(\"there is an error\")\n"
   ]
  },
  {
   "cell_type": "code",
   "execution_count": 4,
   "metadata": {},
   "outputs": [],
   "source": [
    "trump_tweets=trump_tweets_1"
   ]
  },
  {
   "cell_type": "code",
   "execution_count": 5,
   "metadata": {},
   "outputs": [],
   "source": [
    "    trump_text_tweets=[]\n",
    "    trump_tweet_id=[]\n",
    "    trump_tweet_screenname=[]\n",
    "    trump_tweet_time=[]\n",
    "    trump_tweet_subject=[]\n",
    "    for x in range(0,len(trump_tweets)):\n",
    "        text=trump_tweets[x].text\n",
    "        trump_text_tweets.append(text)\n",
    "\n",
    "            #getting tweet id\n",
    "        id=trump_tweets[x].id\n",
    "        trump_tweet_id.append(id)\n",
    "\n",
    "            #getting tweet handle \n",
    "        name=trump_tweets[x].user.screen_name\n",
    "        trump_tweet_screenname.append(name)\n",
    "\n",
    "            #getting tweet time:\n",
    "        time=trump_tweets[x].created_at\n",
    "        trump_tweet_time.append(time)\n",
    "        \n",
    "        trump=\"Trump\"\n",
    "        trump_tweet_subject.append(trump)\n",
    "        \n",
    "    \n",
    "            #getting text language\n",
    "            \n"
   ]
  },
  {
   "cell_type": "code",
   "execution_count": 6,
   "metadata": {},
   "outputs": [],
   "source": [
    "#first 100 andrews tweets\n",
    "try:\n",
    "    andrews_tweets_1= twitter_api.GetSearch('dan andrews', count = 100, lang='en')\n",
    "\n",
    "except:\n",
    "    print(\"there is an error\")\n"
   ]
  },
  {
   "cell_type": "code",
   "execution_count": 7,
   "metadata": {},
   "outputs": [],
   "source": [
    "andrews_tweets=andrews_tweets_1"
   ]
  },
  {
   "cell_type": "code",
   "execution_count": 8,
   "metadata": {},
   "outputs": [],
   "source": [
    "    andrews_text_tweets=[]\n",
    "    andrews_tweet_id=[]\n",
    "    andrews_tweet_screenname=[]\n",
    "    andrews_tweet_time=[]\n",
    "    andrews_tweet_subject=[]\n",
    "    for x in range(0,len(andrews_tweets)):\n",
    "        text=andrews_tweets[x].text\n",
    "        andrews_text_tweets.append(text)\n",
    "\n",
    "            #getting tweet id\n",
    "        id=andrews_tweets[x].id\n",
    "        andrews_tweet_id.append(id)\n",
    "\n",
    "            #getting tweet handle \n",
    "        name=andrews_tweets[x].user.screen_name\n",
    "        andrews_tweet_screenname.append(name)\n",
    "\n",
    "            #getting tweet time:\n",
    "        time=andrews_tweets[x].created_at\n",
    "        andrews_tweet_time.append(time)\n",
    "        \n",
    "        andrews=\"Andrews\"\n",
    "        andrews_tweet_subject.append(andrews)\n",
    "        \n",
    "    \n",
    "            #getting text language\n",
    "            \n"
   ]
  },
  {
   "cell_type": "code",
   "execution_count": 9,
   "metadata": {},
   "outputs": [],
   "source": [
    "text_tweets=trump_text_tweets+andrews_text_tweets\n",
    "tweet_id=trump_tweet_id+andrews_tweet_id\n",
    "tweet_screenname=trump_tweet_screenname+andrews_tweet_screenname\n",
    "tweet_time=trump_tweet_time+andrews_tweet_time\n",
    "tweet_subject=trump_tweet_subject+andrews_tweet_subject"
   ]
  },
  {
   "cell_type": "code",
   "execution_count": 10,
   "metadata": {},
   "outputs": [],
   "source": [
    "tweets_df=pd.DataFrame({\"id\":tweet_id, \"Created at\":tweet_time, \"Screen Name\":tweet_screenname, \"Tweet Text\":text_tweets, \"Subject\":tweet_subject})"
   ]
  },
  {
   "cell_type": "code",
   "execution_count": 11,
   "metadata": {},
   "outputs": [
    {
     "data": {
      "text/plain": [
       "id             190\n",
       "Created at     108\n",
       "Screen Name    183\n",
       "Tweet Text     145\n",
       "Subject          2\n",
       "dtype: int64"
      ]
     },
     "execution_count": 11,
     "metadata": {},
     "output_type": "execute_result"
    }
   ],
   "source": [
    "tweets_df.nunique()"
   ]
  },
  {
   "cell_type": "code",
   "execution_count": 12,
   "metadata": {},
   "outputs": [],
   "source": [
    "#dropping tweets that have duplicate text\n",
    "tweets_df=tweets_df.drop_duplicates(subset=['Tweet Text'])"
   ]
  },
  {
   "cell_type": "code",
   "execution_count": 13,
   "metadata": {},
   "outputs": [],
   "source": [
    "tweets_df.to_csv(\"../data/tweets_scraped.csv\")"
   ]
  },
  {
   "cell_type": "code",
   "execution_count": 14,
   "metadata": {},
   "outputs": [
    {
     "data": {
      "text/html": [
       "<div>\n",
       "<style scoped>\n",
       "    .dataframe tbody tr th:only-of-type {\n",
       "        vertical-align: middle;\n",
       "    }\n",
       "\n",
       "    .dataframe tbody tr th {\n",
       "        vertical-align: top;\n",
       "    }\n",
       "\n",
       "    .dataframe thead th {\n",
       "        text-align: right;\n",
       "    }\n",
       "</style>\n",
       "<table border=\"1\" class=\"dataframe\">\n",
       "  <thead>\n",
       "    <tr style=\"text-align: right;\">\n",
       "      <th></th>\n",
       "      <th>id</th>\n",
       "      <th>Created at</th>\n",
       "      <th>Screen Name</th>\n",
       "      <th>Tweet Text</th>\n",
       "      <th>Subject</th>\n",
       "    </tr>\n",
       "  </thead>\n",
       "  <tbody>\n",
       "    <tr>\n",
       "      <th>0</th>\n",
       "      <td>1321905314665410560</td>\n",
       "      <td>Thu Oct 29 20:02:41 +0000 2020</td>\n",
       "      <td>RBReich</td>\n",
       "      <td>When you vote, remember that Trump's golf trip...</td>\n",
       "      <td>Trump</td>\n",
       "    </tr>\n",
       "    <tr>\n",
       "      <th>1</th>\n",
       "      <td>1321860390100201474</td>\n",
       "      <td>Thu Oct 29 17:04:10 +0000 2020</td>\n",
       "      <td>RealJamesWoods</td>\n",
       "      <td>This smug little number saying her company, #G...</td>\n",
       "      <td>Trump</td>\n",
       "    </tr>\n",
       "    <tr>\n",
       "      <th>2</th>\n",
       "      <td>1322424354139828224</td>\n",
       "      <td>Sat Oct 31 06:25:10 +0000 2020</td>\n",
       "      <td>Richielynn8</td>\n",
       "      <td>@RealKiraDavis @realDonaldTrump Lots of Trump ...</td>\n",
       "      <td>Trump</td>\n",
       "    </tr>\n",
       "    <tr>\n",
       "      <th>3</th>\n",
       "      <td>1322424352923668480</td>\n",
       "      <td>Sat Oct 31 06:25:09 +0000 2020</td>\n",
       "      <td>EChesspiece</td>\n",
       "      <td>@Kusandra Trump will still be your President i...</td>\n",
       "      <td>Trump</td>\n",
       "    </tr>\n",
       "    <tr>\n",
       "      <th>4</th>\n",
       "      <td>1322424352520900609</td>\n",
       "      <td>Sat Oct 31 06:25:09 +0000 2020</td>\n",
       "      <td>DavidOry</td>\n",
       "      <td>RT @cmclymer: This document is fascinating. Th...</td>\n",
       "      <td>Trump</td>\n",
       "    </tr>\n",
       "    <tr>\n",
       "      <th>...</th>\n",
       "      <td>...</td>\n",
       "      <td>...</td>\n",
       "      <td>...</td>\n",
       "      <td>...</td>\n",
       "      <td>...</td>\n",
       "    </tr>\n",
       "    <tr>\n",
       "      <th>181</th>\n",
       "      <td>1322407643437166593</td>\n",
       "      <td>Sat Oct 31 05:18:45 +0000 2020</td>\n",
       "      <td>TheLamarckian</td>\n",
       "      <td>RT @BobeMannBball: Never taking crap from any ...</td>\n",
       "      <td>Andrews</td>\n",
       "    </tr>\n",
       "    <tr>\n",
       "      <th>182</th>\n",
       "      <td>1322407577351680129</td>\n",
       "      <td>Sat Oct 31 05:18:30 +0000 2020</td>\n",
       "      <td>NanaJMcK</td>\n",
       "      <td>RT @deayton_kerry: @Frank__Davies Fauci congra...</td>\n",
       "      <td>Andrews</td>\n",
       "    </tr>\n",
       "    <tr>\n",
       "      <th>185</th>\n",
       "      <td>1322406885497040897</td>\n",
       "      <td>Sat Oct 31 05:15:45 +0000 2020</td>\n",
       "      <td>southyarradan</td>\n",
       "      <td>@theheraldsun What is at the essence of good g...</td>\n",
       "      <td>Andrews</td>\n",
       "    </tr>\n",
       "    <tr>\n",
       "      <th>188</th>\n",
       "      <td>1322404742971105281</td>\n",
       "      <td>Sat Oct 31 05:07:14 +0000 2020</td>\n",
       "      <td>kathryntherese2</td>\n",
       "      <td>@DaveMilbo @19maddie08 @ScottMorrisonMP Did I ...</td>\n",
       "      <td>Andrews</td>\n",
       "    </tr>\n",
       "    <tr>\n",
       "      <th>189</th>\n",
       "      <td>1322404719579463685</td>\n",
       "      <td>Sat Oct 31 05:07:08 +0000 2020</td>\n",
       "      <td>mwheatland</td>\n",
       "      <td>@TimSmithMP Dan Andrews did a fantastic job gu...</td>\n",
       "      <td>Andrews</td>\n",
       "    </tr>\n",
       "  </tbody>\n",
       "</table>\n",
       "<p>145 rows × 5 columns</p>\n",
       "</div>"
      ],
      "text/plain": [
       "                      id                      Created at      Screen Name  \\\n",
       "0    1321905314665410560  Thu Oct 29 20:02:41 +0000 2020          RBReich   \n",
       "1    1321860390100201474  Thu Oct 29 17:04:10 +0000 2020   RealJamesWoods   \n",
       "2    1322424354139828224  Sat Oct 31 06:25:10 +0000 2020      Richielynn8   \n",
       "3    1322424352923668480  Sat Oct 31 06:25:09 +0000 2020      EChesspiece   \n",
       "4    1322424352520900609  Sat Oct 31 06:25:09 +0000 2020         DavidOry   \n",
       "..                   ...                             ...              ...   \n",
       "181  1322407643437166593  Sat Oct 31 05:18:45 +0000 2020    TheLamarckian   \n",
       "182  1322407577351680129  Sat Oct 31 05:18:30 +0000 2020         NanaJMcK   \n",
       "185  1322406885497040897  Sat Oct 31 05:15:45 +0000 2020    southyarradan   \n",
       "188  1322404742971105281  Sat Oct 31 05:07:14 +0000 2020  kathryntherese2   \n",
       "189  1322404719579463685  Sat Oct 31 05:07:08 +0000 2020       mwheatland   \n",
       "\n",
       "                                            Tweet Text  Subject  \n",
       "0    When you vote, remember that Trump's golf trip...    Trump  \n",
       "1    This smug little number saying her company, #G...    Trump  \n",
       "2    @RealKiraDavis @realDonaldTrump Lots of Trump ...    Trump  \n",
       "3    @Kusandra Trump will still be your President i...    Trump  \n",
       "4    RT @cmclymer: This document is fascinating. Th...    Trump  \n",
       "..                                                 ...      ...  \n",
       "181  RT @BobeMannBball: Never taking crap from any ...  Andrews  \n",
       "182  RT @deayton_kerry: @Frank__Davies Fauci congra...  Andrews  \n",
       "185  @theheraldsun What is at the essence of good g...  Andrews  \n",
       "188  @DaveMilbo @19maddie08 @ScottMorrisonMP Did I ...  Andrews  \n",
       "189  @TimSmithMP Dan Andrews did a fantastic job gu...  Andrews  \n",
       "\n",
       "[145 rows x 5 columns]"
      ]
     },
     "execution_count": 14,
     "metadata": {},
     "output_type": "execute_result"
    }
   ],
   "source": [
    "tweets_df"
   ]
  },
  {
   "cell_type": "code",
   "execution_count": null,
   "metadata": {},
   "outputs": [],
   "source": []
  },
  {
   "cell_type": "code",
   "execution_count": null,
   "metadata": {},
   "outputs": [],
   "source": []
  },
  {
   "cell_type": "code",
   "execution_count": null,
   "metadata": {},
   "outputs": [],
   "source": []
  },
  {
   "cell_type": "code",
   "execution_count": null,
   "metadata": {},
   "outputs": [],
   "source": []
  }
 ],
 "metadata": {
  "kernelspec": {
   "display_name": "Python 3",
   "language": "python",
   "name": "python3"
  },
  "language_info": {
   "codemirror_mode": {
    "name": "ipython",
    "version": 3
   },
   "file_extension": ".py",
   "mimetype": "text/x-python",
   "name": "python",
   "nbconvert_exporter": "python",
   "pygments_lexer": "ipython3",
   "version": "3.7.6"
  }
 },
 "nbformat": 4,
 "nbformat_minor": 4
}
