{
 "cells": [
  {
   "cell_type": "code",
   "execution_count": 1,
   "metadata": {},
   "outputs": [
    {
     "name": "stderr",
     "output_type": "stream",
     "text": [
      "[nltk_data] Downloading package stopwords to\n",
      "[nltk_data]     /Users/dhanyamaheswaran/nltk_data...\n",
      "[nltk_data]   Package stopwords is already up-to-date!\n"
     ]
    }
   ],
   "source": [
    "#Libries to process tweets \n",
    "import pandas as pd\n",
    "import numpy as np\n",
    "import re\n",
    "import string\n",
    "import nltk\n",
    "nltk.download('stopwords')  \n",
    "from nltk.corpus import stopwords \n",
    "from nltk.tokenize import word_tokenize\n",
    "from string import punctuation \n",
    "\n",
    "#Using sk.learn Libraries to test models and then\n",
    "from sklearn.feature_extraction.text import TfidfVectorizer  \n",
    "from sklearn.naive_bayes import GaussianNB\n",
    "from sklearn.model_selection import train_test_split  \n",
    "from sklearn.ensemble import RandomForestClassifier\n",
    "from sklearn.metrics import classification_report, confusion_matrix, accuracy_score\n",
    "from sklearn.linear_model import LogisticRegression\n",
    "\n",
    "\n",
    "\n"
   ]
  },
  {
   "cell_type": "code",
   "execution_count": 2,
   "metadata": {},
   "outputs": [],
   "source": [
    "training_reviews=pd.read_csv(\"../data/IMDB_Dataset.csv\",  encoding='latin-1')\n"
   ]
  },
  {
   "cell_type": "code",
   "execution_count": 3,
   "metadata": {},
   "outputs": [
    {
     "data": {
      "text/html": [
       "<div>\n",
       "<style scoped>\n",
       "    .dataframe tbody tr th:only-of-type {\n",
       "        vertical-align: middle;\n",
       "    }\n",
       "\n",
       "    .dataframe tbody tr th {\n",
       "        vertical-align: top;\n",
       "    }\n",
       "\n",
       "    .dataframe thead th {\n",
       "        text-align: right;\n",
       "    }\n",
       "</style>\n",
       "<table border=\"1\" class=\"dataframe\">\n",
       "  <thead>\n",
       "    <tr style=\"text-align: right;\">\n",
       "      <th></th>\n",
       "      <th>review</th>\n",
       "      <th>sentiment</th>\n",
       "    </tr>\n",
       "  </thead>\n",
       "  <tbody>\n",
       "    <tr>\n",
       "      <th>0</th>\n",
       "      <td>One of the other reviewers has mentioned that ...</td>\n",
       "      <td>positive</td>\n",
       "    </tr>\n",
       "    <tr>\n",
       "      <th>1</th>\n",
       "      <td>A wonderful little production. &lt;br /&gt;&lt;br /&gt;The...</td>\n",
       "      <td>positive</td>\n",
       "    </tr>\n",
       "    <tr>\n",
       "      <th>2</th>\n",
       "      <td>I thought this was a wonderful way to spend ti...</td>\n",
       "      <td>positive</td>\n",
       "    </tr>\n",
       "    <tr>\n",
       "      <th>3</th>\n",
       "      <td>Basically there's a family where a little boy ...</td>\n",
       "      <td>negative</td>\n",
       "    </tr>\n",
       "    <tr>\n",
       "      <th>4</th>\n",
       "      <td>Petter Mattei's \"Love in the Time of Money\" is...</td>\n",
       "      <td>positive</td>\n",
       "    </tr>\n",
       "  </tbody>\n",
       "</table>\n",
       "</div>"
      ],
      "text/plain": [
       "                                              review sentiment\n",
       "0  One of the other reviewers has mentioned that ...  positive\n",
       "1  A wonderful little production. <br /><br />The...  positive\n",
       "2  I thought this was a wonderful way to spend ti...  positive\n",
       "3  Basically there's a family where a little boy ...  negative\n",
       "4  Petter Mattei's \"Love in the Time of Money\" is...  positive"
      ]
     },
     "execution_count": 3,
     "metadata": {},
     "output_type": "execute_result"
    }
   ],
   "source": [
    "training_reviews.head(5)\n"
   ]
  },
  {
   "cell_type": "code",
   "execution_count": 4,
   "metadata": {},
   "outputs": [],
   "source": [
    "#editing the training review column\n",
    "\n",
    "text = training_reviews['review'].to_list()\n",
    "edited_text=[]\n",
    "\n",
    "#Lowercase tweets\n",
    "for review in text:\n",
    "    #convert all letters to a lower case\n",
    "    edited_review=review.lower()\n",
    "   \n",
    "    #removing punctuation \n",
    "    \n",
    "    edited_review=re.sub(\"([.;:!\\'?,\\\"()\\[\\]])\",\"\", edited_review)\n",
    "\n",
    "    \n",
    "    \n",
    "    #removing the <br / br>\n",
    "    \n",
    "    edited_review=re.sub(\"(<br\\s*/><br\\s*/>)|(\\-)|(\\/)\", \" \", edited_review)\n",
    "    \n",
    "    edited_text.append(edited_review)\n",
    "    "
   ]
  },
  {
   "cell_type": "code",
   "execution_count": 5,
   "metadata": {},
   "outputs": [],
   "source": [
    "tfidfconverter = TfidfVectorizer(max_features=2000, min_df=5, max_df=0.7, stop_words=stopwords.words('english'))  \n",
    "X = tfidfconverter.fit_transform(edited_text).toarray()\n"
   ]
  },
  {
   "cell_type": "code",
   "execution_count": 6,
   "metadata": {},
   "outputs": [],
   "source": [
    "y=training_reviews['sentiment'].to_list()"
   ]
  },
  {
   "cell_type": "code",
   "execution_count": 7,
   "metadata": {},
   "outputs": [],
   "source": [
    "\n",
    "X_train, X_test, y_train, y_test = train_test_split(X, y, test_size=0.2, random_state=0)\n",
    " "
   ]
  },
  {
   "cell_type": "code",
   "execution_count": 8,
   "metadata": {},
   "outputs": [
    {
     "data": {
      "text/plain": [
       "RandomForestClassifier(bootstrap=True, ccp_alpha=0.0, class_weight=None,\n",
       "                       criterion='gini', max_depth=None, max_features='auto',\n",
       "                       max_leaf_nodes=None, max_samples=None,\n",
       "                       min_impurity_decrease=0.0, min_impurity_split=None,\n",
       "                       min_samples_leaf=1, min_samples_split=2,\n",
       "                       min_weight_fraction_leaf=0.0, n_estimators=90,\n",
       "                       n_jobs=None, oob_score=False, random_state=0, verbose=0,\n",
       "                       warm_start=False)"
      ]
     },
     "execution_count": 8,
     "metadata": {},
     "output_type": "execute_result"
    }
   ],
   "source": [
    "\n",
    "sentiment_random_classifier = RandomForestClassifier(n_estimators=90, random_state=0)  \n",
    "sentiment_random_classifier.fit(X_train, y_train)\n",
    " "
   ]
  },
  {
   "cell_type": "code",
   "execution_count": 9,
   "metadata": {},
   "outputs": [],
   "source": [
    "sentiment_predictions_forest = sentiment_random_classifier.predict(X_test)\n"
   ]
  },
  {
   "cell_type": "code",
   "execution_count": 10,
   "metadata": {},
   "outputs": [
    {
     "name": "stdout",
     "output_type": "stream",
     "text": [
      "[[4292  743]\n",
      " [ 838 4127]]\n",
      "              precision    recall  f1-score   support\n",
      "\n",
      "    negative       0.84      0.85      0.84      5035\n",
      "    positive       0.85      0.83      0.84      4965\n",
      "\n",
      "    accuracy                           0.84     10000\n",
      "   macro avg       0.84      0.84      0.84     10000\n",
      "weighted avg       0.84      0.84      0.84     10000\n",
      "\n",
      "0.8419\n"
     ]
    }
   ],
   "source": [
    "\n",
    " \n",
    "print(confusion_matrix(y_test,sentiment_predictions_forest))  \n",
    "print(classification_report(y_test,sentiment_predictions_forest))  \n",
    "print(accuracy_score(y_test, sentiment_predictions_forest))"
   ]
  },
  {
   "cell_type": "code",
   "execution_count": 11,
   "metadata": {},
   "outputs": [],
   "source": [
    "sentiment_bayes_classifier = GaussianNB() \n",
    "sentiment_bayes_classifier.fit(X_train, y_train)\n",
    "\n",
    "sentiment_predictions_bayes = sentiment_bayes_classifier.predict(X_test)\n"
   ]
  },
  {
   "cell_type": "code",
   "execution_count": 12,
   "metadata": {},
   "outputs": [
    {
     "name": "stdout",
     "output_type": "stream",
     "text": [
      "[[4136  899]\n",
      " [ 917 4048]]\n",
      "              precision    recall  f1-score   support\n",
      "\n",
      "    negative       0.82      0.82      0.82      5035\n",
      "    positive       0.82      0.82      0.82      4965\n",
      "\n",
      "    accuracy                           0.82     10000\n",
      "   macro avg       0.82      0.82      0.82     10000\n",
      "weighted avg       0.82      0.82      0.82     10000\n",
      "\n",
      "0.8184\n"
     ]
    }
   ],
   "source": [
    " \n",
    "print(confusion_matrix(y_test,sentiment_predictions_bayes))  \n",
    "print(classification_report(y_test,sentiment_predictions_bayes))  \n",
    "print(accuracy_score(y_test, sentiment_predictions_bayes))\n"
   ]
  },
  {
   "cell_type": "code",
   "execution_count": 13,
   "metadata": {},
   "outputs": [],
   "source": [
    "#Naive Bayes performed much worse than the Random Forest Algorithm surpirisngly"
   ]
  },
  {
   "cell_type": "code",
   "execution_count": 14,
   "metadata": {},
   "outputs": [
    {
     "data": {
      "text/plain": [
       "LogisticRegression(C=1.0, class_weight=None, dual=False, fit_intercept=True,\n",
       "                   intercept_scaling=1, l1_ratio=None, max_iter=100,\n",
       "                   multi_class='auto', n_jobs=None, penalty='l2',\n",
       "                   random_state=None, solver='lbfgs', tol=0.0001, verbose=0,\n",
       "                   warm_start=False)"
      ]
     },
     "execution_count": 14,
     "metadata": {},
     "output_type": "execute_result"
    }
   ],
   "source": [
    "#Logistic regression, how did that go\n",
    "\n",
    "sentiment_regression_classifier=LogisticRegression()\n",
    "sentiment_regression_classifier.fit(X_train, y_train)"
   ]
  },
  {
   "cell_type": "code",
   "execution_count": 15,
   "metadata": {},
   "outputs": [],
   "source": [
    "linear_predictions = sentiment_regression_classifier.predict(X_test)"
   ]
  },
  {
   "cell_type": "code",
   "execution_count": 16,
   "metadata": {},
   "outputs": [
    {
     "name": "stdout",
     "output_type": "stream",
     "text": [
      "[[4371  664]\n",
      " [ 564 4401]]\n",
      "              precision    recall  f1-score   support\n",
      "\n",
      "    negative       0.89      0.87      0.88      5035\n",
      "    positive       0.87      0.89      0.88      4965\n",
      "\n",
      "    accuracy                           0.88     10000\n",
      "   macro avg       0.88      0.88      0.88     10000\n",
      "weighted avg       0.88      0.88      0.88     10000\n",
      "\n",
      "0.8772\n"
     ]
    }
   ],
   "source": [
    "print(confusion_matrix(y_test,linear_predictions))  \n",
    "print(classification_report(y_test,linear_predictions))  \n",
    "print(accuracy_score(y_test, linear_predictions))\n"
   ]
  },
  {
   "cell_type": "code",
   "execution_count": null,
   "metadata": {},
   "outputs": [],
   "source": [
    "#close to 80%, the most accurate. Thus, the decision to use the Logistic regression "
   ]
  },
  {
   "cell_type": "code",
   "execution_count": 17,
   "metadata": {},
   "outputs": [
    {
     "data": {
      "text/html": [
       "<div>\n",
       "<style scoped>\n",
       "    .dataframe tbody tr th:only-of-type {\n",
       "        vertical-align: middle;\n",
       "    }\n",
       "\n",
       "    .dataframe tbody tr th {\n",
       "        vertical-align: top;\n",
       "    }\n",
       "\n",
       "    .dataframe thead th {\n",
       "        text-align: right;\n",
       "    }\n",
       "</style>\n",
       "<table border=\"1\" class=\"dataframe\">\n",
       "  <thead>\n",
       "    <tr style=\"text-align: right;\">\n",
       "      <th></th>\n",
       "      <th>Unnamed: 0</th>\n",
       "      <th>id</th>\n",
       "      <th>Created at</th>\n",
       "      <th>Screen Name</th>\n",
       "      <th>Tweet Text</th>\n",
       "      <th>Subject</th>\n",
       "    </tr>\n",
       "  </thead>\n",
       "  <tbody>\n",
       "    <tr>\n",
       "      <th>0</th>\n",
       "      <td>0</td>\n",
       "      <td>1321905314665410560</td>\n",
       "      <td>Thu Oct 29 20:02:41 +0000 2020</td>\n",
       "      <td>RBReich</td>\n",
       "      <td>When you vote, remember that Trump's golf trip...</td>\n",
       "      <td>Trump</td>\n",
       "    </tr>\n",
       "    <tr>\n",
       "      <th>1</th>\n",
       "      <td>1</td>\n",
       "      <td>1321860390100201474</td>\n",
       "      <td>Thu Oct 29 17:04:10 +0000 2020</td>\n",
       "      <td>RealJamesWoods</td>\n",
       "      <td>This smug little number saying her company, #G...</td>\n",
       "      <td>Trump</td>\n",
       "    </tr>\n",
       "    <tr>\n",
       "      <th>2</th>\n",
       "      <td>2</td>\n",
       "      <td>1322424354139828224</td>\n",
       "      <td>Sat Oct 31 06:25:10 +0000 2020</td>\n",
       "      <td>Richielynn8</td>\n",
       "      <td>@RealKiraDavis @realDonaldTrump Lots of Trump ...</td>\n",
       "      <td>Trump</td>\n",
       "    </tr>\n",
       "    <tr>\n",
       "      <th>3</th>\n",
       "      <td>3</td>\n",
       "      <td>1322424352923668480</td>\n",
       "      <td>Sat Oct 31 06:25:09 +0000 2020</td>\n",
       "      <td>EChesspiece</td>\n",
       "      <td>@Kusandra Trump will still be your President i...</td>\n",
       "      <td>Trump</td>\n",
       "    </tr>\n",
       "    <tr>\n",
       "      <th>4</th>\n",
       "      <td>4</td>\n",
       "      <td>1322424352520900609</td>\n",
       "      <td>Sat Oct 31 06:25:09 +0000 2020</td>\n",
       "      <td>DavidOry</td>\n",
       "      <td>RT @cmclymer: This document is fascinating. Th...</td>\n",
       "      <td>Trump</td>\n",
       "    </tr>\n",
       "    <tr>\n",
       "      <th>...</th>\n",
       "      <td>...</td>\n",
       "      <td>...</td>\n",
       "      <td>...</td>\n",
       "      <td>...</td>\n",
       "      <td>...</td>\n",
       "      <td>...</td>\n",
       "    </tr>\n",
       "    <tr>\n",
       "      <th>140</th>\n",
       "      <td>181</td>\n",
       "      <td>1322407643437166593</td>\n",
       "      <td>Sat Oct 31 05:18:45 +0000 2020</td>\n",
       "      <td>TheLamarckian</td>\n",
       "      <td>RT @BobeMannBball: Never taking crap from any ...</td>\n",
       "      <td>Andrews</td>\n",
       "    </tr>\n",
       "    <tr>\n",
       "      <th>141</th>\n",
       "      <td>182</td>\n",
       "      <td>1322407577351680129</td>\n",
       "      <td>Sat Oct 31 05:18:30 +0000 2020</td>\n",
       "      <td>NanaJMcK</td>\n",
       "      <td>RT @deayton_kerry: @Frank__Davies Fauci congra...</td>\n",
       "      <td>Andrews</td>\n",
       "    </tr>\n",
       "    <tr>\n",
       "      <th>142</th>\n",
       "      <td>185</td>\n",
       "      <td>1322406885497040897</td>\n",
       "      <td>Sat Oct 31 05:15:45 +0000 2020</td>\n",
       "      <td>southyarradan</td>\n",
       "      <td>@theheraldsun What is at the essence of good g...</td>\n",
       "      <td>Andrews</td>\n",
       "    </tr>\n",
       "    <tr>\n",
       "      <th>143</th>\n",
       "      <td>188</td>\n",
       "      <td>1322404742971105281</td>\n",
       "      <td>Sat Oct 31 05:07:14 +0000 2020</td>\n",
       "      <td>kathryntherese2</td>\n",
       "      <td>@DaveMilbo @19maddie08 @ScottMorrisonMP Did I ...</td>\n",
       "      <td>Andrews</td>\n",
       "    </tr>\n",
       "    <tr>\n",
       "      <th>144</th>\n",
       "      <td>189</td>\n",
       "      <td>1322404719579463685</td>\n",
       "      <td>Sat Oct 31 05:07:08 +0000 2020</td>\n",
       "      <td>mwheatland</td>\n",
       "      <td>@TimSmithMP Dan Andrews did a fantastic job gu...</td>\n",
       "      <td>Andrews</td>\n",
       "    </tr>\n",
       "  </tbody>\n",
       "</table>\n",
       "<p>145 rows × 6 columns</p>\n",
       "</div>"
      ],
      "text/plain": [
       "     Unnamed: 0                   id                      Created at  \\\n",
       "0             0  1321905314665410560  Thu Oct 29 20:02:41 +0000 2020   \n",
       "1             1  1321860390100201474  Thu Oct 29 17:04:10 +0000 2020   \n",
       "2             2  1322424354139828224  Sat Oct 31 06:25:10 +0000 2020   \n",
       "3             3  1322424352923668480  Sat Oct 31 06:25:09 +0000 2020   \n",
       "4             4  1322424352520900609  Sat Oct 31 06:25:09 +0000 2020   \n",
       "..          ...                  ...                             ...   \n",
       "140         181  1322407643437166593  Sat Oct 31 05:18:45 +0000 2020   \n",
       "141         182  1322407577351680129  Sat Oct 31 05:18:30 +0000 2020   \n",
       "142         185  1322406885497040897  Sat Oct 31 05:15:45 +0000 2020   \n",
       "143         188  1322404742971105281  Sat Oct 31 05:07:14 +0000 2020   \n",
       "144         189  1322404719579463685  Sat Oct 31 05:07:08 +0000 2020   \n",
       "\n",
       "         Screen Name                                         Tweet Text  \\\n",
       "0            RBReich  When you vote, remember that Trump's golf trip...   \n",
       "1     RealJamesWoods  This smug little number saying her company, #G...   \n",
       "2        Richielynn8  @RealKiraDavis @realDonaldTrump Lots of Trump ...   \n",
       "3        EChesspiece  @Kusandra Trump will still be your President i...   \n",
       "4           DavidOry  RT @cmclymer: This document is fascinating. Th...   \n",
       "..               ...                                                ...   \n",
       "140    TheLamarckian  RT @BobeMannBball: Never taking crap from any ...   \n",
       "141         NanaJMcK  RT @deayton_kerry: @Frank__Davies Fauci congra...   \n",
       "142    southyarradan  @theheraldsun What is at the essence of good g...   \n",
       "143  kathryntherese2  @DaveMilbo @19maddie08 @ScottMorrisonMP Did I ...   \n",
       "144       mwheatland  @TimSmithMP Dan Andrews did a fantastic job gu...   \n",
       "\n",
       "     Subject  \n",
       "0      Trump  \n",
       "1      Trump  \n",
       "2      Trump  \n",
       "3      Trump  \n",
       "4      Trump  \n",
       "..       ...  \n",
       "140  Andrews  \n",
       "141  Andrews  \n",
       "142  Andrews  \n",
       "143  Andrews  \n",
       "144  Andrews  \n",
       "\n",
       "[145 rows x 6 columns]"
      ]
     },
     "execution_count": 17,
     "metadata": {},
     "output_type": "execute_result"
    }
   ],
   "source": [
    "#loading in the Trump_dataset\n",
    "\n",
    "tweets_df=pd.read_csv(\"../data/tweets_scraped.csv\")\n",
    "tweets_df"
   ]
  },
  {
   "cell_type": "code",
   "execution_count": 18,
   "metadata": {},
   "outputs": [],
   "source": [
    "#cleaning up the trump tweets:\n",
    "tweet_text = tweets_df['Tweet Text'].to_list()\n",
    "edited_text=[]\n",
    "sentiment_list=[]\n",
    "\n",
    "#Lowercase tweets\n",
    "for tweet in range (0, len(tweet_text)):\n",
    "    #lower case\n",
    "    #removing speocial cahracters\n",
    "    edited_tweet = re.sub(r'\\W', ' ', str(tweet_text[tweet]))\n",
    " \n",
    "    # remove sinflue\n",
    "    edited_tweet = re.sub(r'\\s+[a-zA-Z]\\s+', ' ', edited_tweet)\n",
    " \n",
    "    # Remove single characters from the start\n",
    "    edited_tweet = re.sub(r'\\^[a-zA-Z]\\s+', ' ', edited_tweet) \n",
    " \n",
    "    # Substituting multiple spaces with single space\n",
    "    edited_tweet= re.sub(r'\\s+', ' ', edited_tweet, flags=re.I)\n",
    " \n",
    "    # Removing prefixed 'b'\n",
    "    edited_tweet = re.sub(r'^b\\s+', '', edited_tweet)\n",
    "    \n",
    "    #removing stopwords tweets\n",
    "    \n",
    "    \n",
    "    edited_tweet=edited_tweet.lower()\n",
    "    \n",
    "    edited_text.append(edited_tweet) \n",
    "    \n",
    "    sentiment_trump = sentiment_regression_classifier.predict(tfidfconverter.transform([edited_tweet]).toarray())\n",
    "    sentiment_list.append(sentiment_trump)"
   ]
  },
  {
   "cell_type": "code",
   "execution_count": 19,
   "metadata": {},
   "outputs": [],
   "source": [
    "\n",
    "sentiment_list_edited=[]\n",
    "\n",
    "for item in sentiment_list:\n",
    "    if \"positive\" in item:\n",
    "        sentiment_list_edited.append(\"positive\")\n",
    "    else:\n",
    "        sentiment_list_edited.append(\"negative\")"
   ]
  },
  {
   "cell_type": "code",
   "execution_count": 20,
   "metadata": {},
   "outputs": [],
   "source": [
    "#Adding the list to the dataframe \n",
    "\n",
    "tweets_df[\"sentiment\"]=sentiment_list_edited\n"
   ]
  },
  {
   "cell_type": "code",
   "execution_count": 21,
   "metadata": {},
   "outputs": [],
   "source": [
    "tweets_df.to_csv(\"../data/tweets_classified.csv\")"
   ]
  },
  {
   "cell_type": "code",
   "execution_count": 22,
   "metadata": {},
   "outputs": [
    {
     "data": {
      "text/html": [
       "<div>\n",
       "<style scoped>\n",
       "    .dataframe tbody tr th:only-of-type {\n",
       "        vertical-align: middle;\n",
       "    }\n",
       "\n",
       "    .dataframe tbody tr th {\n",
       "        vertical-align: top;\n",
       "    }\n",
       "\n",
       "    .dataframe thead th {\n",
       "        text-align: right;\n",
       "    }\n",
       "</style>\n",
       "<table border=\"1\" class=\"dataframe\">\n",
       "  <thead>\n",
       "    <tr style=\"text-align: right;\">\n",
       "      <th></th>\n",
       "      <th>Unnamed: 0</th>\n",
       "      <th>id</th>\n",
       "      <th>Created at</th>\n",
       "      <th>Screen Name</th>\n",
       "      <th>Tweet Text</th>\n",
       "      <th>Subject</th>\n",
       "      <th>sentiment</th>\n",
       "    </tr>\n",
       "  </thead>\n",
       "  <tbody>\n",
       "    <tr>\n",
       "      <th>0</th>\n",
       "      <td>0</td>\n",
       "      <td>1321905314665410560</td>\n",
       "      <td>Thu Oct 29 20:02:41 +0000 2020</td>\n",
       "      <td>RBReich</td>\n",
       "      <td>When you vote, remember that Trump's golf trip...</td>\n",
       "      <td>Trump</td>\n",
       "      <td>positive</td>\n",
       "    </tr>\n",
       "    <tr>\n",
       "      <th>1</th>\n",
       "      <td>1</td>\n",
       "      <td>1321860390100201474</td>\n",
       "      <td>Thu Oct 29 17:04:10 +0000 2020</td>\n",
       "      <td>RealJamesWoods</td>\n",
       "      <td>This smug little number saying her company, #G...</td>\n",
       "      <td>Trump</td>\n",
       "      <td>negative</td>\n",
       "    </tr>\n",
       "    <tr>\n",
       "      <th>2</th>\n",
       "      <td>2</td>\n",
       "      <td>1322424354139828224</td>\n",
       "      <td>Sat Oct 31 06:25:10 +0000 2020</td>\n",
       "      <td>Richielynn8</td>\n",
       "      <td>@RealKiraDavis @realDonaldTrump Lots of Trump ...</td>\n",
       "      <td>Trump</td>\n",
       "      <td>negative</td>\n",
       "    </tr>\n",
       "    <tr>\n",
       "      <th>3</th>\n",
       "      <td>3</td>\n",
       "      <td>1322424352923668480</td>\n",
       "      <td>Sat Oct 31 06:25:09 +0000 2020</td>\n",
       "      <td>EChesspiece</td>\n",
       "      <td>@Kusandra Trump will still be your President i...</td>\n",
       "      <td>Trump</td>\n",
       "      <td>positive</td>\n",
       "    </tr>\n",
       "    <tr>\n",
       "      <th>4</th>\n",
       "      <td>4</td>\n",
       "      <td>1322424352520900609</td>\n",
       "      <td>Sat Oct 31 06:25:09 +0000 2020</td>\n",
       "      <td>DavidOry</td>\n",
       "      <td>RT @cmclymer: This document is fascinating. Th...</td>\n",
       "      <td>Trump</td>\n",
       "      <td>positive</td>\n",
       "    </tr>\n",
       "    <tr>\n",
       "      <th>...</th>\n",
       "      <td>...</td>\n",
       "      <td>...</td>\n",
       "      <td>...</td>\n",
       "      <td>...</td>\n",
       "      <td>...</td>\n",
       "      <td>...</td>\n",
       "      <td>...</td>\n",
       "    </tr>\n",
       "    <tr>\n",
       "      <th>140</th>\n",
       "      <td>181</td>\n",
       "      <td>1322407643437166593</td>\n",
       "      <td>Sat Oct 31 05:18:45 +0000 2020</td>\n",
       "      <td>TheLamarckian</td>\n",
       "      <td>RT @BobeMannBball: Never taking crap from any ...</td>\n",
       "      <td>Andrews</td>\n",
       "      <td>negative</td>\n",
       "    </tr>\n",
       "    <tr>\n",
       "      <th>141</th>\n",
       "      <td>182</td>\n",
       "      <td>1322407577351680129</td>\n",
       "      <td>Sat Oct 31 05:18:30 +0000 2020</td>\n",
       "      <td>NanaJMcK</td>\n",
       "      <td>RT @deayton_kerry: @Frank__Davies Fauci congra...</td>\n",
       "      <td>Andrews</td>\n",
       "      <td>negative</td>\n",
       "    </tr>\n",
       "    <tr>\n",
       "      <th>142</th>\n",
       "      <td>185</td>\n",
       "      <td>1322406885497040897</td>\n",
       "      <td>Sat Oct 31 05:15:45 +0000 2020</td>\n",
       "      <td>southyarradan</td>\n",
       "      <td>@theheraldsun What is at the essence of good g...</td>\n",
       "      <td>Andrews</td>\n",
       "      <td>positive</td>\n",
       "    </tr>\n",
       "    <tr>\n",
       "      <th>143</th>\n",
       "      <td>188</td>\n",
       "      <td>1322404742971105281</td>\n",
       "      <td>Sat Oct 31 05:07:14 +0000 2020</td>\n",
       "      <td>kathryntherese2</td>\n",
       "      <td>@DaveMilbo @19maddie08 @ScottMorrisonMP Did I ...</td>\n",
       "      <td>Andrews</td>\n",
       "      <td>positive</td>\n",
       "    </tr>\n",
       "    <tr>\n",
       "      <th>144</th>\n",
       "      <td>189</td>\n",
       "      <td>1322404719579463685</td>\n",
       "      <td>Sat Oct 31 05:07:08 +0000 2020</td>\n",
       "      <td>mwheatland</td>\n",
       "      <td>@TimSmithMP Dan Andrews did a fantastic job gu...</td>\n",
       "      <td>Andrews</td>\n",
       "      <td>positive</td>\n",
       "    </tr>\n",
       "  </tbody>\n",
       "</table>\n",
       "<p>145 rows × 7 columns</p>\n",
       "</div>"
      ],
      "text/plain": [
       "     Unnamed: 0                   id                      Created at  \\\n",
       "0             0  1321905314665410560  Thu Oct 29 20:02:41 +0000 2020   \n",
       "1             1  1321860390100201474  Thu Oct 29 17:04:10 +0000 2020   \n",
       "2             2  1322424354139828224  Sat Oct 31 06:25:10 +0000 2020   \n",
       "3             3  1322424352923668480  Sat Oct 31 06:25:09 +0000 2020   \n",
       "4             4  1322424352520900609  Sat Oct 31 06:25:09 +0000 2020   \n",
       "..          ...                  ...                             ...   \n",
       "140         181  1322407643437166593  Sat Oct 31 05:18:45 +0000 2020   \n",
       "141         182  1322407577351680129  Sat Oct 31 05:18:30 +0000 2020   \n",
       "142         185  1322406885497040897  Sat Oct 31 05:15:45 +0000 2020   \n",
       "143         188  1322404742971105281  Sat Oct 31 05:07:14 +0000 2020   \n",
       "144         189  1322404719579463685  Sat Oct 31 05:07:08 +0000 2020   \n",
       "\n",
       "         Screen Name                                         Tweet Text  \\\n",
       "0            RBReich  When you vote, remember that Trump's golf trip...   \n",
       "1     RealJamesWoods  This smug little number saying her company, #G...   \n",
       "2        Richielynn8  @RealKiraDavis @realDonaldTrump Lots of Trump ...   \n",
       "3        EChesspiece  @Kusandra Trump will still be your President i...   \n",
       "4           DavidOry  RT @cmclymer: This document is fascinating. Th...   \n",
       "..               ...                                                ...   \n",
       "140    TheLamarckian  RT @BobeMannBball: Never taking crap from any ...   \n",
       "141         NanaJMcK  RT @deayton_kerry: @Frank__Davies Fauci congra...   \n",
       "142    southyarradan  @theheraldsun What is at the essence of good g...   \n",
       "143  kathryntherese2  @DaveMilbo @19maddie08 @ScottMorrisonMP Did I ...   \n",
       "144       mwheatland  @TimSmithMP Dan Andrews did a fantastic job gu...   \n",
       "\n",
       "     Subject sentiment  \n",
       "0      Trump  positive  \n",
       "1      Trump  negative  \n",
       "2      Trump  negative  \n",
       "3      Trump  positive  \n",
       "4      Trump  positive  \n",
       "..       ...       ...  \n",
       "140  Andrews  negative  \n",
       "141  Andrews  negative  \n",
       "142  Andrews  positive  \n",
       "143  Andrews  positive  \n",
       "144  Andrews  positive  \n",
       "\n",
       "[145 rows x 7 columns]"
      ]
     },
     "execution_count": 22,
     "metadata": {},
     "output_type": "execute_result"
    }
   ],
   "source": [
    "tweets_df"
   ]
  },
  {
   "cell_type": "code",
   "execution_count": null,
   "metadata": {},
   "outputs": [],
   "source": []
  }
 ],
 "metadata": {
  "kernelspec": {
   "display_name": "Python 3",
   "language": "python",
   "name": "python3"
  },
  "language_info": {
   "codemirror_mode": {
    "name": "ipython",
    "version": 3
   },
   "file_extension": ".py",
   "mimetype": "text/x-python",
   "name": "python",
   "nbconvert_exporter": "python",
   "pygments_lexer": "ipython3",
   "version": "3.7.6"
  }
 },
 "nbformat": 4,
 "nbformat_minor": 4
}
