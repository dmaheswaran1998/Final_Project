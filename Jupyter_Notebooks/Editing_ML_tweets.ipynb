{
 "cells": [
  {
   "cell_type": "code",
   "execution_count": 76,
   "metadata": {},
   "outputs": [],
   "source": [
    "#Needed to successfully import as a wordcould\n",
    "import numpy as np\n",
    "import pandas as pd\n",
    "import matplotlib.pyplot as plt\n",
    "import re\n",
    "from collections import defaultdict\n",
    "import json\n"
   ]
  },
  {
   "cell_type": "code",
   "execution_count": 77,
   "metadata": {},
   "outputs": [
    {
     "data": {
      "text/plain": [
       "Unnamed: 0      86\n",
       "Unnamed: 0.1    86\n",
       "id              86\n",
       "Created at      86\n",
       "Screen Name     86\n",
       "Tweet Text      86\n",
       "sentiment       86\n",
       "dtype: int64"
      ]
     },
     "execution_count": 77,
     "metadata": {},
     "output_type": "execute_result"
    }
   ],
   "source": [
    "json_list=[]\n",
    "trump=pd.read_csv(\"../data/trump_tweets_classified.csv\")\n",
    "trump.head()\n",
    "trump.count()"
   ]
  },
  {
   "cell_type": "code",
   "execution_count": 78,
   "metadata": {},
   "outputs": [
    {
     "data": {
      "text/plain": [
       "id             86\n",
       "Created at     86\n",
       "Screen Name    86\n",
       "Tweet Text     86\n",
       "sentiment      86\n",
       "dtype: int64"
      ]
     },
     "execution_count": 78,
     "metadata": {},
     "output_type": "execute_result"
    }
   ],
   "source": [
    "trump2=trump[[\"id\", \"Created at\", \"Screen Name\", \"Tweet Text\", \"sentiment\"]]\n",
    "trump2.count()"
   ]
  },
  {
   "cell_type": "code",
   "execution_count": 79,
   "metadata": {},
   "outputs": [
    {
     "name": "stderr",
     "output_type": "stream",
     "text": [
      "/Users/dhanyamaheswaran/opt/anaconda3/lib/python3.7/site-packages/ipykernel_launcher.py:1: SettingWithCopyWarning: \n",
      "A value is trying to be set on a copy of a slice from a DataFrame.\n",
      "Try using .loc[row_indexer,col_indexer] = value instead\n",
      "\n",
      "See the caveats in the documentation: https://pandas.pydata.org/pandas-docs/stable/user_guide/indexing.html#returning-a-view-versus-a-copy\n",
      "  \"\"\"Entry point for launching an IPython kernel.\n"
     ]
    }
   ],
   "source": [
    "trump2[\"Frequency\"]=1"
   ]
  },
  {
   "cell_type": "code",
   "execution_count": 80,
   "metadata": {},
   "outputs": [],
   "source": [
    "#modifying the date-time string \n",
    "time_string=trump2[\"Created at\"].to_list()\n",
    "time_edited=[]\n",
    "for item in time_string:\n",
    "    item2=item.replace(\" +0000\",\"\")\n",
    "    time_edited.append(item2)\n",
    "    "
   ]
  },
  {
   "cell_type": "code",
   "execution_count": 81,
   "metadata": {},
   "outputs": [
    {
     "name": "stderr",
     "output_type": "stream",
     "text": [
      "/Users/dhanyamaheswaran/opt/anaconda3/lib/python3.7/site-packages/ipykernel_launcher.py:1: SettingWithCopyWarning: \n",
      "A value is trying to be set on a copy of a slice from a DataFrame.\n",
      "Try using .loc[row_indexer,col_indexer] = value instead\n",
      "\n",
      "See the caveats in the documentation: https://pandas.pydata.org/pandas-docs/stable/user_guide/indexing.html#returning-a-view-versus-a-copy\n",
      "  \"\"\"Entry point for launching an IPython kernel.\n",
      "/Users/dhanyamaheswaran/opt/anaconda3/lib/python3.7/site-packages/ipykernel_launcher.py:2: SettingWithCopyWarning: \n",
      "A value is trying to be set on a copy of a slice from a DataFrame.\n",
      "Try using .loc[row_indexer,col_indexer] = value instead\n",
      "\n",
      "See the caveats in the documentation: https://pandas.pydata.org/pandas-docs/stable/user_guide/indexing.html#returning-a-view-versus-a-copy\n",
      "  \n"
     ]
    }
   ],
   "source": [
    "trump2[\"Created at\"]=time_edited\n",
    "trump2['Created at'] =  pd.to_datetime(trump2['Created at'], infer_datetime_format=True)"
   ]
  },
  {
   "cell_type": "code",
   "execution_count": 82,
   "metadata": {},
   "outputs": [],
   "source": [
    "trump2['date'] = trump2['Created at'].dt.date\n",
    "#most frequent dates most are from the same day, wil lscreq axis if not all from the same day \n",
    "date = pd.DataFrame(trump2.groupby(\"date\")[\"Frequency\"].count())\n",
    "date=date.sort_values(by='Frequency', ascending=False)\n",
    "#to keep majority of the graph, only display one day of data\n",
    "date=date.head(1)\n",
    "day=date.index.values[0]\n",
    "\n"
   ]
  },
  {
   "cell_type": "code",
   "execution_count": 83,
   "metadata": {},
   "outputs": [],
   "source": [
    "edited_time_df=trump2.loc[trump2[\"date\"]==day, [\"date\", \"Created at\", \"Screen Name\", \"Tweet Text\", \"sentiment\", \"Frequency\"]]\n",
    "edited=edited_time_df.sort_values(by='Created at')\n",
    "edited=edited.rename(columns={\"Created at\": \"datetime\"})\n",
    "edited=edited.drop(columns=['date'])"
   ]
  },
  {
   "cell_type": "code",
   "execution_count": 84,
   "metadata": {},
   "outputs": [],
   "source": [
    "#json positive sentiment\n",
    "only_positive = edited.loc[edited[\"sentiment\"] == \"positive\", :]\n",
    "positive_frequency=only_positive[[\"datetime\", \"Frequency\"]]\n",
    "only_positive=positive_frequency.resample('0.05T', on='datetime').sum()\n",
    "only_positive=only_positive.reset_index()"
   ]
  },
  {
   "cell_type": "code",
   "execution_count": 85,
   "metadata": {},
   "outputs": [
    {
     "data": {
      "text/html": [
       "<div>\n",
       "<style scoped>\n",
       "    .dataframe tbody tr th:only-of-type {\n",
       "        vertical-align: middle;\n",
       "    }\n",
       "\n",
       "    .dataframe tbody tr th {\n",
       "        vertical-align: top;\n",
       "    }\n",
       "\n",
       "    .dataframe thead th {\n",
       "        text-align: right;\n",
       "    }\n",
       "</style>\n",
       "<table border=\"1\" class=\"dataframe\">\n",
       "  <thead>\n",
       "    <tr style=\"text-align: right;\">\n",
       "      <th></th>\n",
       "      <th>datetime</th>\n",
       "      <th>Frequency</th>\n",
       "      <th>sentiment</th>\n",
       "    </tr>\n",
       "  </thead>\n",
       "  <tbody>\n",
       "    <tr>\n",
       "      <th>0</th>\n",
       "      <td>2020-10-30 03:00:15</td>\n",
       "      <td>27</td>\n",
       "      <td>positive</td>\n",
       "    </tr>\n",
       "    <tr>\n",
       "      <th>1</th>\n",
       "      <td>2020-10-30 03:00:18</td>\n",
       "      <td>1</td>\n",
       "      <td>positive</td>\n",
       "    </tr>\n",
       "  </tbody>\n",
       "</table>\n",
       "</div>"
      ],
      "text/plain": [
       "             datetime  Frequency sentiment\n",
       "0 2020-10-30 03:00:15         27  positive\n",
       "1 2020-10-30 03:00:18          1  positive"
      ]
     },
     "execution_count": 85,
     "metadata": {},
     "output_type": "execute_result"
    }
   ],
   "source": [
    "only_positive[\"sentiment\"]=\"positive\"\n",
    "only_positive"
   ]
  },
  {
   "cell_type": "code",
   "execution_count": 86,
   "metadata": {},
   "outputs": [],
   "source": [
    "#json positive sentiment\n",
    "only_negative = edited.loc[edited[\"sentiment\"] == \"negative\", :]\n",
    "negative_frequency=only_negative[[\"datetime\", \"Frequency\"]]\n",
    "only_negative=negative_frequency.resample('0.05T', on='datetime').sum()\n",
    "only_negative=only_negative.reset_index()"
   ]
  },
  {
   "cell_type": "code",
   "execution_count": 87,
   "metadata": {},
   "outputs": [
    {
     "data": {
      "text/html": [
       "<div>\n",
       "<style scoped>\n",
       "    .dataframe tbody tr th:only-of-type {\n",
       "        vertical-align: middle;\n",
       "    }\n",
       "\n",
       "    .dataframe tbody tr th {\n",
       "        vertical-align: top;\n",
       "    }\n",
       "\n",
       "    .dataframe thead th {\n",
       "        text-align: right;\n",
       "    }\n",
       "</style>\n",
       "<table border=\"1\" class=\"dataframe\">\n",
       "  <thead>\n",
       "    <tr style=\"text-align: right;\">\n",
       "      <th></th>\n",
       "      <th>datetime</th>\n",
       "      <th>Frequency</th>\n",
       "      <th>sentiment</th>\n",
       "    </tr>\n",
       "  </thead>\n",
       "  <tbody>\n",
       "    <tr>\n",
       "      <th>0</th>\n",
       "      <td>2020-10-30 03:00:15</td>\n",
       "      <td>54</td>\n",
       "      <td>negative</td>\n",
       "    </tr>\n",
       "    <tr>\n",
       "      <th>1</th>\n",
       "      <td>2020-10-30 03:00:18</td>\n",
       "      <td>1</td>\n",
       "      <td>negative</td>\n",
       "    </tr>\n",
       "  </tbody>\n",
       "</table>\n",
       "</div>"
      ],
      "text/plain": [
       "             datetime  Frequency sentiment\n",
       "0 2020-10-30 03:00:15         54  negative\n",
       "1 2020-10-30 03:00:18          1  negative"
      ]
     },
     "execution_count": 87,
     "metadata": {},
     "output_type": "execute_result"
    }
   ],
   "source": [
    "only_negative[\"sentiment\"]=\"negative\"\n",
    "only_negative"
   ]
  },
  {
   "cell_type": "code",
   "execution_count": 88,
   "metadata": {},
   "outputs": [],
   "source": [
    "frames=[only_positive, only_negative]\n",
    "sentiment_concat=pd.concat(frames)\n",
    "sentiment_concat['datetime']=sentiment_concat['datetime'].astype(str)"
   ]
  },
  {
   "cell_type": "code",
   "execution_count": 89,
   "metadata": {},
   "outputs": [
    {
     "data": {
      "text/html": [
       "<div>\n",
       "<style scoped>\n",
       "    .dataframe tbody tr th:only-of-type {\n",
       "        vertical-align: middle;\n",
       "    }\n",
       "\n",
       "    .dataframe tbody tr th {\n",
       "        vertical-align: top;\n",
       "    }\n",
       "\n",
       "    .dataframe thead th {\n",
       "        text-align: right;\n",
       "    }\n",
       "</style>\n",
       "<table border=\"1\" class=\"dataframe\">\n",
       "  <thead>\n",
       "    <tr style=\"text-align: right;\">\n",
       "      <th></th>\n",
       "      <th></th>\n",
       "      <th>Frequency</th>\n",
       "    </tr>\n",
       "    <tr>\n",
       "      <th>sentiment</th>\n",
       "      <th>datetime</th>\n",
       "      <th></th>\n",
       "    </tr>\n",
       "  </thead>\n",
       "  <tbody>\n",
       "    <tr>\n",
       "      <th rowspan=\"2\" valign=\"top\">negative</th>\n",
       "      <th>2020-10-30 03:00:15</th>\n",
       "      <td>54</td>\n",
       "    </tr>\n",
       "    <tr>\n",
       "      <th>2020-10-30 03:00:18</th>\n",
       "      <td>1</td>\n",
       "    </tr>\n",
       "    <tr>\n",
       "      <th rowspan=\"2\" valign=\"top\">positive</th>\n",
       "      <th>2020-10-30 03:00:15</th>\n",
       "      <td>27</td>\n",
       "    </tr>\n",
       "    <tr>\n",
       "      <th>2020-10-30 03:00:18</th>\n",
       "      <td>1</td>\n",
       "    </tr>\n",
       "  </tbody>\n",
       "</table>\n",
       "</div>"
      ],
      "text/plain": [
       "                               Frequency\n",
       "sentiment datetime                      \n",
       "negative  2020-10-30 03:00:15         54\n",
       "          2020-10-30 03:00:18          1\n",
       "positive  2020-10-30 03:00:15         27\n",
       "          2020-10-30 03:00:18          1"
      ]
     },
     "execution_count": 89,
     "metadata": {},
     "output_type": "execute_result"
    }
   ],
   "source": [
    "sentiment_group = sentiment_concat.groupby(['sentiment', \"datetime\"])\n",
    "sentiment_group_2=pd.DataFrame(sentiment_group[\"Frequency\"].sum())\n",
    "sentiment_group_2\n"
   ]
  },
  {
   "cell_type": "code",
   "execution_count": 90,
   "metadata": {},
   "outputs": [],
   "source": [
    "results1 = defaultdict(lambda: defaultdict(dict))\n",
    "\n",
    "for index, value in sentiment_group_2.itertuples():\n",
    "    for i, key in enumerate(index):\n",
    "        if i == 0:\n",
    "            nested = results1[key]\n",
    "        elif i == len(index) - 1:\n",
    "            nested[key] = value\n",
    "        else:\n",
    "            nested = nested[key] "
   ]
  },
  {
   "cell_type": "code",
   "execution_count": 91,
   "metadata": {},
   "outputs": [
    {
     "data": {
      "text/plain": [
       "[defaultdict(<function __main__.<lambda>()>,\n",
       "             {'negative': defaultdict(dict,\n",
       "                          {'2020-10-30 03:00:15': 54,\n",
       "                           '2020-10-30 03:00:18': 1}),\n",
       "              'positive': defaultdict(dict,\n",
       "                          {'2020-10-30 03:00:15': 27,\n",
       "                           '2020-10-30 03:00:18': 1})})]"
      ]
     },
     "execution_count": 91,
     "metadata": {},
     "output_type": "execute_result"
    }
   ],
   "source": [
    "json_list.append(results1)\n",
    "json_list"
   ]
  },
  {
   "cell_type": "code",
   "execution_count": 92,
   "metadata": {},
   "outputs": [],
   "source": [
    "#obtaining panel \n",
    "sentiment = trump2.groupby(\"sentiment\")[\"Frequency\"].count()\n",
    "total_sentiment=trump2[\"sentiment\"].count()\n",
    "percentage_sentiment=((sentiment/total_sentiment)*100).round()"
   ]
  },
  {
   "cell_type": "code",
   "execution_count": 93,
   "metadata": {},
   "outputs": [
    {
     "data": {
      "text/plain": [
       "sentiment\n",
       "negative    65.0\n",
       "positive    35.0\n",
       "Name: Frequency, dtype: float64"
      ]
     },
     "execution_count": 93,
     "metadata": {},
     "output_type": "execute_result"
    }
   ],
   "source": [
    "percentage_sentiment\n"
   ]
  },
  {
   "cell_type": "code",
   "execution_count": 94,
   "metadata": {},
   "outputs": [],
   "source": [
    "\n",
    "percentage_dict=percentage_sentiment.to_dict()\n",
    "json_list.append(percentage_dict)\n"
   ]
  },
  {
   "cell_type": "code",
   "execution_count": 95,
   "metadata": {},
   "outputs": [],
   "source": [
    "example=trump2.head(5)\n",
    "\n",
    "    \n",
    "   \n",
    "   "
   ]
  },
  {
   "cell_type": "code",
   "execution_count": 96,
   "metadata": {},
   "outputs": [],
   "source": [
    "screen_name=example[\"Screen Name\"].to_list()\n",
    "tweet_text=example[\"Tweet Text\"].to_list()\n"
   ]
  },
  {
   "cell_type": "code",
   "execution_count": 97,
   "metadata": {},
   "outputs": [],
   "source": [
    " res = {screen_name[i]: tweet_text[i] for i in range(len(screen_name))}\n",
    "\n",
    "trump_dict={\"trump_tweets\":res}\n"
   ]
  },
  {
   "cell_type": "code",
   "execution_count": 98,
   "metadata": {},
   "outputs": [],
   "source": [
    " json_list.append(trump_dict)"
   ]
  },
  {
   "cell_type": "code",
   "execution_count": 99,
   "metadata": {},
   "outputs": [],
   "source": [
    "with open('twitter_data.json', 'w') as fp:\n",
    "    json.dump(json_list, fp)"
   ]
  },
  {
   "cell_type": "code",
   "execution_count": 100,
   "metadata": {},
   "outputs": [
    {
     "data": {
      "text/plain": [
       "[defaultdict(<function __main__.<lambda>()>,\n",
       "             {'negative': defaultdict(dict,\n",
       "                          {'2020-10-30 03:00:15': 54,\n",
       "                           '2020-10-30 03:00:18': 1}),\n",
       "              'positive': defaultdict(dict,\n",
       "                          {'2020-10-30 03:00:15': 27,\n",
       "                           '2020-10-30 03:00:18': 1})}),\n",
       " {'negative': 65.0, 'positive': 35.0},\n",
       " {'trump_tweets': {'RealJamesWoods': 'This smug little number saying her company, #Google, shouldn’t be broken up. Why? Because smaller companies won’t h… https://t.co/XCxmoS4YTc',\n",
       "   'SethAbramson': \"As good an ad about Trump as I've seen. I hope you'll retweet it. https://t.co/G5e5L0HyRu\",\n",
       "   'PeteButtigieg': \"Trump's rallies are a metaphor for how he views his own supporters. Happy to have them cheer for him, only to leave… https://t.co/hKnjHluBUo\",\n",
       "   'bflyjesusgrl': 'RT @TeamTrump: WATCH: @IngrahamAngle on The GREAT Trump Recovery! https://t.co/j6P8aix12N',\n",
       "   'um_cloudy': '@censors68769010 Chris Balding, donald trump, martin aspen trump junior does cocaine'}}]"
      ]
     },
     "execution_count": 100,
     "metadata": {},
     "output_type": "execute_result"
    }
   ],
   "source": [
    "json_list"
   ]
  },
  {
   "cell_type": "code",
   "execution_count": null,
   "metadata": {},
   "outputs": [],
   "source": []
  }
 ],
 "metadata": {
  "kernelspec": {
   "display_name": "Python 3",
   "language": "python",
   "name": "python3"
  },
  "language_info": {
   "codemirror_mode": {
    "name": "ipython",
    "version": 3
   },
   "file_extension": ".py",
   "mimetype": "text/x-python",
   "name": "python",
   "nbconvert_exporter": "python",
   "pygments_lexer": "ipython3",
   "version": "3.7.6"
  }
 },
 "nbformat": 4,
 "nbformat_minor": 4
}
