{
 "cells": [
  {
   "cell_type": "code",
   "execution_count": 1,
   "metadata": {},
   "outputs": [],
   "source": [
    "import twitter\n",
    "import pandas as pd\n",
    "import csv\n",
    "import time\n",
    "import numpy as np\n"
   ]
  },
  {
   "cell_type": "code",
   "execution_count": 2,
   "metadata": {},
   "outputs": [
    {
     "name": "stdout",
     "output_type": "stream",
     "text": [
      "{\"created_at\": \"Tue Oct 20 23:54:59 +0000 2020\", \"default_profile\": true, \"default_profile_image\": true, \"id\": 1318702260596006912, \"id_str\": \"1318702260596006912\", \"name\": \"Dhanya Maheswaran\", \"profile_background_color\": \"F5F8FA\", \"profile_image_url\": \"http://abs.twimg.com/sticky/default_profile_images/default_profile_normal.png\", \"profile_image_url_https\": \"https://abs.twimg.com/sticky/default_profile_images/default_profile_normal.png\", \"profile_link_color\": \"1DA1F2\", \"profile_sidebar_border_color\": \"C0DEED\", \"profile_sidebar_fill_color\": \"DDEEF6\", \"profile_text_color\": \"333333\", \"profile_use_background_image\": true, \"screen_name\": \"DhanyaMaheswar1\"}\n"
     ]
    }
   ],
   "source": [
    "#initialise the API for twitter\n",
    "\n",
    "twitter_api = twitter.Api(consumer_key='SyYb53RgRe2yovpNkbRLQWMLf',\n",
    "                        consumer_secret='YxOG1Vs8mdUtgNI5dJqXSAIbKYm4fl0D8BgWcAQt8z6fLqxZKx',\n",
    "                        access_token_key='1318702260596006912-nSG7CBJZHBAnwDQABFc4J8HOaNBwKL',\n",
    "                        access_token_secret='mkabBMLcYMdRNFSPEvav5OEWFjBWImsCBTGsRnewEOr8q')\n",
    "\n",
    "# test authentication\n",
    "print(twitter_api.VerifyCredentials())"
   ]
  },
  {
   "cell_type": "code",
   "execution_count": 11,
   "metadata": {},
   "outputs": [],
   "source": [
    "#first 100 tweets\n",
    "try:\n",
    "    trump_tweets_1= twitter_api.GetSearch('trump', count = 100, lang='en')\n",
    "\n",
    "except:\n",
    "    print(\"there is an error\")\n"
   ]
  },
  {
   "cell_type": "code",
   "execution_count": 12,
   "metadata": {},
   "outputs": [],
   "source": [
    "trump_tweets=trump_tweets_1"
   ]
  },
  {
   "cell_type": "code",
   "execution_count": 17,
   "metadata": {},
   "outputs": [],
   "source": [
    "    trump_text_tweets=[]\n",
    "    trump_tweet_id=[]\n",
    "    trump_tweet_screenname=[]\n",
    "    trump_tweet_time=[]\n",
    "    trump_tweet_subject=[]\n",
    "    for x in range(0,len(trump_tweets)):\n",
    "        text=trump_tweets[x].text\n",
    "        trump_text_tweets.append(text)\n",
    "\n",
    "            #getting tweet id\n",
    "        id=trump_tweets[x].id\n",
    "        trump_tweet_id.append(id)\n",
    "\n",
    "            #getting tweet handle \n",
    "        name=trump_tweets[x].user.screen_name\n",
    "        trump_tweet_screenname.append(name)\n",
    "\n",
    "            #getting tweet time:\n",
    "        time=trump_tweets[x].created_at\n",
    "        trump_tweet_time.append(time)\n",
    "        \n",
    "        trump=\"Trump\"\n",
    "        trump_tweet_subject.append(trump)\n",
    "        \n",
    "    \n",
    "            #getting text language\n",
    "            \n"
   ]
  },
  {
   "cell_type": "code",
   "execution_count": 18,
   "metadata": {},
   "outputs": [],
   "source": [
    "#first 100 andrews tweets\n",
    "try:\n",
    "    andrews_tweets_1= twitter_api.GetSearch('dan andrews', count = 100, lang='en')\n",
    "\n",
    "except:\n",
    "    print(\"there is an error\")\n"
   ]
  },
  {
   "cell_type": "code",
   "execution_count": 19,
   "metadata": {},
   "outputs": [],
   "source": [
    "andrews_tweets=andrews_tweets_1"
   ]
  },
  {
   "cell_type": "code",
   "execution_count": 21,
   "metadata": {},
   "outputs": [],
   "source": [
    "    andrews_text_tweets=[]\n",
    "    andrews_tweet_id=[]\n",
    "    andrews_tweet_screenname=[]\n",
    "    andrews_tweet_time=[]\n",
    "    andrews_tweet_subject=[]\n",
    "    for x in range(0,len(andrews_tweets)):\n",
    "        text=andrews_tweets[x].text\n",
    "        andrews_text_tweets.append(text)\n",
    "\n",
    "            #getting tweet id\n",
    "        id=andrews_tweets[x].id\n",
    "        andrews_tweet_id.append(id)\n",
    "\n",
    "            #getting tweet handle \n",
    "        name=andrews_tweets[x].user.screen_name\n",
    "        andrews_tweet_screenname.append(name)\n",
    "\n",
    "            #getting tweet time:\n",
    "        time=andrews_tweets[x].created_at\n",
    "        andrews_tweet_time.append(time)\n",
    "        \n",
    "        andrews=\"Andrews\"\n",
    "        andrews_tweet_subject.append(andrews)\n",
    "        \n",
    "    \n",
    "            #getting text language\n",
    "            \n"
   ]
  },
  {
   "cell_type": "code",
   "execution_count": 23,
   "metadata": {},
   "outputs": [],
   "source": [
    "text_tweets=trump_text_tweets+andrews_text_tweets\n",
    "tweet_id=trump_tweet_id+andrews_tweet_id\n",
    "tweet_screenname=trump_tweet_screenname+andrews_tweet_screenname\n",
    "tweet_time=trump_tweet_time+andrews_tweet_time\n",
    "tweet_subject=trump_tweet_subject+andrews_tweet_subject"
   ]
  },
  {
   "cell_type": "code",
   "execution_count": 24,
   "metadata": {},
   "outputs": [],
   "source": [
    "tweets_df=pd.DataFrame({\"id\":tweet_id, \"Created at\":tweet_time, \"Screen Name\":tweet_screenname, \"Tweet Text\":text_tweets, \"Subject\":tweet_subject})"
   ]
  },
  {
   "cell_type": "code",
   "execution_count": 25,
   "metadata": {},
   "outputs": [
    {
     "data": {
      "text/plain": [
       "id             194\n",
       "Created at     109\n",
       "Screen Name    188\n",
       "Tweet Text     130\n",
       "Subject          2\n",
       "dtype: int64"
      ]
     },
     "execution_count": 25,
     "metadata": {},
     "output_type": "execute_result"
    }
   ],
   "source": [
    "tweets_df.nunique()"
   ]
  },
  {
   "cell_type": "code",
   "execution_count": 27,
   "metadata": {},
   "outputs": [],
   "source": [
    "#dropping tweets that have duplicate text\n",
    "tweets_df=tweets_df.drop_duplicates(subset=['Tweet Text'])"
   ]
  },
  {
   "cell_type": "code",
   "execution_count": 30,
   "metadata": {},
   "outputs": [],
   "source": [
    "tweets_df.to_csv(\"../data/tweets_scraped.csv\")"
   ]
  },
  {
   "cell_type": "code",
   "execution_count": 31,
   "metadata": {},
   "outputs": [
    {
     "data": {
      "text/html": [
       "<div>\n",
       "<style scoped>\n",
       "    .dataframe tbody tr th:only-of-type {\n",
       "        vertical-align: middle;\n",
       "    }\n",
       "\n",
       "    .dataframe tbody tr th {\n",
       "        vertical-align: top;\n",
       "    }\n",
       "\n",
       "    .dataframe thead th {\n",
       "        text-align: right;\n",
       "    }\n",
       "</style>\n",
       "<table border=\"1\" class=\"dataframe\">\n",
       "  <thead>\n",
       "    <tr style=\"text-align: right;\">\n",
       "      <th></th>\n",
       "      <th>id</th>\n",
       "      <th>Created at</th>\n",
       "      <th>Screen Name</th>\n",
       "      <th>Tweet Text</th>\n",
       "      <th>Subject</th>\n",
       "    </tr>\n",
       "  </thead>\n",
       "  <tbody>\n",
       "    <tr>\n",
       "      <th>0</th>\n",
       "      <td>1321860390100201474</td>\n",
       "      <td>Thu Oct 29 17:04:10 +0000 2020</td>\n",
       "      <td>RealJamesWoods</td>\n",
       "      <td>This smug little number saying her company, #G...</td>\n",
       "      <td>Trump</td>\n",
       "    </tr>\n",
       "    <tr>\n",
       "      <th>1</th>\n",
       "      <td>1321692442983366656</td>\n",
       "      <td>Thu Oct 29 05:56:48 +0000 2020</td>\n",
       "      <td>SethAbramson</td>\n",
       "      <td>As good an ad about Trump as I've seen. I hope...</td>\n",
       "      <td>Trump</td>\n",
       "    </tr>\n",
       "    <tr>\n",
       "      <th>2</th>\n",
       "      <td>1321654604921212928</td>\n",
       "      <td>Thu Oct 29 03:26:27 +0000 2020</td>\n",
       "      <td>tribelaw</td>\n",
       "      <td>Justice Kennedy’s retirement in good health is...</td>\n",
       "      <td>Trump</td>\n",
       "    </tr>\n",
       "    <tr>\n",
       "      <th>3</th>\n",
       "      <td>1322060803135229952</td>\n",
       "      <td>Fri Oct 30 06:20:32 +0000 2020</td>\n",
       "      <td>GroyperCrusade</td>\n",
       "      <td>This one slipped by but add another rapper for...</td>\n",
       "      <td>Trump</td>\n",
       "    </tr>\n",
       "    <tr>\n",
       "      <th>4</th>\n",
       "      <td>1322060802204061699</td>\n",
       "      <td>Fri Oct 30 06:20:32 +0000 2020</td>\n",
       "      <td>raminderrehill</td>\n",
       "      <td>RT @Ojeda4America: Don’t mistake these rappers...</td>\n",
       "      <td>Trump</td>\n",
       "    </tr>\n",
       "    <tr>\n",
       "      <th>...</th>\n",
       "      <td>...</td>\n",
       "      <td>...</td>\n",
       "      <td>...</td>\n",
       "      <td>...</td>\n",
       "      <td>...</td>\n",
       "    </tr>\n",
       "    <tr>\n",
       "      <th>176</th>\n",
       "      <td>1322052139812757504</td>\n",
       "      <td>Fri Oct 30 05:46:07 +0000 2020</td>\n",
       "      <td>JohnCharlesTwe2</td>\n",
       "      <td>@OMGTheMess Starting to sound a bit like Dan A...</td>\n",
       "      <td>Andrews</td>\n",
       "    </tr>\n",
       "    <tr>\n",
       "      <th>180</th>\n",
       "      <td>1322051943045328896</td>\n",
       "      <td>Fri Oct 30 05:45:20 +0000 2020</td>\n",
       "      <td>ChrisLancashir3</td>\n",
       "      <td>RT @earthchampions: @abcnews Well done Dan And...</td>\n",
       "      <td>Andrews</td>\n",
       "    </tr>\n",
       "    <tr>\n",
       "      <th>183</th>\n",
       "      <td>1322051294031343617</td>\n",
       "      <td>Fri Oct 30 05:42:45 +0000 2020</td>\n",
       "      <td>AussieStoolie</td>\n",
       "      <td>If you wanna know how Aussies celebrated Melbo...</td>\n",
       "      <td>Andrews</td>\n",
       "    </tr>\n",
       "    <tr>\n",
       "      <th>185</th>\n",
       "      <td>1322051195964252160</td>\n",
       "      <td>Fri Oct 30 05:42:22 +0000 2020</td>\n",
       "      <td>BrentJa96772508</td>\n",
       "      <td>@JoshFrydenberg @Birmo @MathiasCormann You sho...</td>\n",
       "      <td>Andrews</td>\n",
       "    </tr>\n",
       "    <tr>\n",
       "      <th>193</th>\n",
       "      <td>1322049964210593794</td>\n",
       "      <td>Fri Oct 30 05:37:28 +0000 2020</td>\n",
       "      <td>Katheri84751514</td>\n",
       "      <td>RT @JuliusFlywheel: Never watched a Dan Andrew...</td>\n",
       "      <td>Andrews</td>\n",
       "    </tr>\n",
       "  </tbody>\n",
       "</table>\n",
       "<p>130 rows × 5 columns</p>\n",
       "</div>"
      ],
      "text/plain": [
       "                      id                      Created at      Screen Name  \\\n",
       "0    1321860390100201474  Thu Oct 29 17:04:10 +0000 2020   RealJamesWoods   \n",
       "1    1321692442983366656  Thu Oct 29 05:56:48 +0000 2020     SethAbramson   \n",
       "2    1321654604921212928  Thu Oct 29 03:26:27 +0000 2020         tribelaw   \n",
       "3    1322060803135229952  Fri Oct 30 06:20:32 +0000 2020   GroyperCrusade   \n",
       "4    1322060802204061699  Fri Oct 30 06:20:32 +0000 2020   raminderrehill   \n",
       "..                   ...                             ...              ...   \n",
       "176  1322052139812757504  Fri Oct 30 05:46:07 +0000 2020  JohnCharlesTwe2   \n",
       "180  1322051943045328896  Fri Oct 30 05:45:20 +0000 2020  ChrisLancashir3   \n",
       "183  1322051294031343617  Fri Oct 30 05:42:45 +0000 2020    AussieStoolie   \n",
       "185  1322051195964252160  Fri Oct 30 05:42:22 +0000 2020  BrentJa96772508   \n",
       "193  1322049964210593794  Fri Oct 30 05:37:28 +0000 2020  Katheri84751514   \n",
       "\n",
       "                                            Tweet Text  Subject  \n",
       "0    This smug little number saying her company, #G...    Trump  \n",
       "1    As good an ad about Trump as I've seen. I hope...    Trump  \n",
       "2    Justice Kennedy’s retirement in good health is...    Trump  \n",
       "3    This one slipped by but add another rapper for...    Trump  \n",
       "4    RT @Ojeda4America: Don’t mistake these rappers...    Trump  \n",
       "..                                                 ...      ...  \n",
       "176  @OMGTheMess Starting to sound a bit like Dan A...  Andrews  \n",
       "180  RT @earthchampions: @abcnews Well done Dan And...  Andrews  \n",
       "183  If you wanna know how Aussies celebrated Melbo...  Andrews  \n",
       "185  @JoshFrydenberg @Birmo @MathiasCormann You sho...  Andrews  \n",
       "193  RT @JuliusFlywheel: Never watched a Dan Andrew...  Andrews  \n",
       "\n",
       "[130 rows x 5 columns]"
      ]
     },
     "execution_count": 31,
     "metadata": {},
     "output_type": "execute_result"
    }
   ],
   "source": [
    "tweets_df"
   ]
  },
  {
   "cell_type": "code",
   "execution_count": null,
   "metadata": {},
   "outputs": [],
   "source": []
  }
 ],
 "metadata": {
  "kernelspec": {
   "display_name": "Python 3",
   "language": "python",
   "name": "python3"
  },
  "language_info": {
   "codemirror_mode": {
    "name": "ipython",
    "version": 3
   },
   "file_extension": ".py",
   "mimetype": "text/x-python",
   "name": "python",
   "nbconvert_exporter": "python",
   "pygments_lexer": "ipython3",
   "version": "3.7.6"
  }
 },
 "nbformat": 4,
 "nbformat_minor": 4
}
