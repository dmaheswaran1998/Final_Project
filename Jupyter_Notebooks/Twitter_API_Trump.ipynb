{
 "cells": [
  {
   "cell_type": "code",
   "execution_count": 1,
   "metadata": {},
   "outputs": [],
   "source": [
    "import twitter\n",
    "import pandas as pd\n",
    "import csv\n",
    "import time\n",
    "import numpy as np\n"
   ]
  },
  {
   "cell_type": "code",
   "execution_count": 2,
   "metadata": {},
   "outputs": [
    {
     "name": "stdout",
     "output_type": "stream",
     "text": [
      "{\"created_at\": \"Tue Oct 20 23:54:59 +0000 2020\", \"default_profile\": true, \"default_profile_image\": true, \"id\": 1318702260596006912, \"id_str\": \"1318702260596006912\", \"name\": \"Dhanya Maheswaran\", \"profile_background_color\": \"F5F8FA\", \"profile_image_url\": \"http://abs.twimg.com/sticky/default_profile_images/default_profile_normal.png\", \"profile_image_url_https\": \"https://abs.twimg.com/sticky/default_profile_images/default_profile_normal.png\", \"profile_link_color\": \"1DA1F2\", \"profile_sidebar_border_color\": \"C0DEED\", \"profile_sidebar_fill_color\": \"DDEEF6\", \"profile_text_color\": \"333333\", \"profile_use_background_image\": true, \"screen_name\": \"DhanyaMaheswar1\"}\n"
     ]
    }
   ],
   "source": [
    "#initialise the API for twitter\n",
    "\n",
    "twitter_api = twitter.Api(consumer_key='SyYb53RgRe2yovpNkbRLQWMLf',\n",
    "                        consumer_secret='YxOG1Vs8mdUtgNI5dJqXSAIbKYm4fl0D8BgWcAQt8z6fLqxZKx',\n",
    "                        access_token_key='1318702260596006912-nSG7CBJZHBAnwDQABFc4J8HOaNBwKL',\n",
    "                        access_token_secret='mkabBMLcYMdRNFSPEvav5OEWFjBWImsCBTGsRnewEOr8q')\n",
    "\n",
    "# test authentication\n",
    "print(twitter_api.VerifyCredentials())"
   ]
  },
  {
   "cell_type": "code",
   "execution_count": 3,
   "metadata": {},
   "outputs": [],
   "source": [
    "#first 100 tweets\n",
    "try:\n",
    "    trump_tweets_1= twitter_api.GetSearch('trump', count = 100, lang='en')\n",
    "    id_1=(len(trump_tweets_1))\n",
    "    id_1=trump_tweets_1[id_1-1].id\n",
    "\n",
    "except:\n",
    "    print(\"there is an error\")\n"
   ]
  },
  {
   "cell_type": "code",
   "execution_count": 4,
   "metadata": {},
   "outputs": [],
   "source": [
    "#second 100 tweets\n",
    "try:\n",
    "    trump_tweets_2= twitter_api.GetSearch('trump', max_id=id_1-1, count = 100, lang='en')\n",
    "    id_2=(len(trump_tweets_2))\n",
    "    id_2=trump_tweets_2[id_2-1].id\n",
    "\n",
    "except:\n",
    "    print(\"there is an error\")\n"
   ]
  },
  {
   "cell_type": "code",
   "execution_count": 5,
   "metadata": {},
   "outputs": [],
   "source": [
    "#third 100 tweets\n",
    "try:\n",
    "    trump_tweets_3= twitter_api.GetSearch('trump', max_id=id_2-1, count = 100, lang='en')\n",
    "    id_3=(len(trump_tweets_3))\n",
    "    id_3=trump_tweets_3[id_3-1].id\n",
    "\n",
    "except:\n",
    "    print(\"there is an error\")"
   ]
  },
  {
   "cell_type": "code",
   "execution_count": 6,
   "metadata": {},
   "outputs": [],
   "source": [
    "#fourth 100 tweets\n",
    "try:\n",
    "    trump_tweets_4= twitter_api.GetSearch('trump', max_id=id_3-1, count = 100, lang='en')\n",
    "    id_4=(len(trump_tweets_4))\n",
    "    id_4=trump_tweets_4[id_4-1].id\n",
    "\n",
    "except:\n",
    "    print(\"there is an error\")"
   ]
  },
  {
   "cell_type": "code",
   "execution_count": 7,
   "metadata": {},
   "outputs": [],
   "source": [
    "#fifth 100 tweets\n",
    "try:\n",
    "    trump_tweets_5= twitter_api.GetSearch('trump', max_id=id_4-1, count = 100, lang='en')\n",
    "    id_5=(len(trump_tweets_5))\n",
    "    id_5=trump_tweets_5[id_5-1].id\n",
    "\n",
    "except:\n",
    "    print(\"there is an error\")"
   ]
  },
  {
   "cell_type": "code",
   "execution_count": 16,
   "metadata": {},
   "outputs": [],
   "source": [
    "#sixth 100 tweets\n",
    "\n",
    "try:\n",
    "    trump_tweets_6= twitter_api.GetSearch('trump', max_id=id_5-1, count = 100, lang='en')\n",
    "    id_6=(len(trump_tweets_6))\n",
    "    id_6=trump_tweets_6[id_6-1].id\n",
    "\n",
    "except:\n",
    "    print(\"there is an error\")\n",
    "\n"
   ]
  },
  {
   "cell_type": "code",
   "execution_count": 17,
   "metadata": {},
   "outputs": [
    {
     "name": "stdout",
     "output_type": "stream",
     "text": [
      "524\n"
     ]
    }
   ],
   "source": [
    "trump_tweets=trump_tweets_1+trump_tweets_2+trump_tweets_3+trump_tweets_4+trump_tweets_5+ trump_tweets_6\n",
    "print(len(trump_tweets))"
   ]
  },
  {
   "cell_type": "code",
   "execution_count": 18,
   "metadata": {},
   "outputs": [],
   "source": [
    "    text_tweets=[]\n",
    "    tweet_id=[]\n",
    "    tweet_screenname=[]\n",
    "    tweet_time=[]\n",
    "    for x in range(0,len(trump_tweets)):\n",
    "        text=trump_tweets[x].text\n",
    "        text_tweets.append(text)\n",
    "\n",
    "            #getting tweet id\n",
    "        id=trump_tweets[x].id\n",
    "        tweet_id.append(id)\n",
    "\n",
    "            #getting tweet handle \n",
    "        name=trump_tweets[x].user.screen_name\n",
    "        tweet_screenname.append(name)\n",
    "\n",
    "            #getting tweet time:\n",
    "        time=trump_tweets[x].created_at\n",
    "        tweet_time.append(time)\n",
    "            #getting text language\n",
    "            \n"
   ]
  },
  {
   "cell_type": "code",
   "execution_count": 19,
   "metadata": {},
   "outputs": [],
   "source": [
    "#putting all the trump tweets into a dataframe \n",
    "\n",
    "trump_tweets_df=pd.DataFrame({'id': tweet_id, 'Created at' : tweet_time, 'Screen Name': tweet_screenname, \"Tweet Text\": text_tweets})\n",
    "\n",
    "\n"
   ]
  },
  {
   "cell_type": "code",
   "execution_count": 20,
   "metadata": {},
   "outputs": [
    {
     "data": {
      "text/plain": [
       "id             524\n",
       "Created at      34\n",
       "Screen Name    506\n",
       "Tweet Text     422\n",
       "dtype: int64"
      ]
     },
     "execution_count": 20,
     "metadata": {},
     "output_type": "execute_result"
    }
   ],
   "source": [
    "trump_tweets_df.nunique()"
   ]
  },
  {
   "cell_type": "code",
   "execution_count": 21,
   "metadata": {},
   "outputs": [],
   "source": [
    "#dropping tweets that have duplicate text\n",
    "trump_tweets_df=trump_tweets_df.drop_duplicates(subset=['Tweet Text'])"
   ]
  },
  {
   "cell_type": "code",
   "execution_count": 22,
   "metadata": {},
   "outputs": [],
   "source": [
    "trump_tweets_df.to_csv(\"trump_tweets_scraped.csv\")"
   ]
  },
  {
   "cell_type": "code",
   "execution_count": 23,
   "metadata": {},
   "outputs": [
    {
     "data": {
      "text/html": [
       "<div>\n",
       "<style scoped>\n",
       "    .dataframe tbody tr th:only-of-type {\n",
       "        vertical-align: middle;\n",
       "    }\n",
       "\n",
       "    .dataframe tbody tr th {\n",
       "        vertical-align: top;\n",
       "    }\n",
       "\n",
       "    .dataframe thead th {\n",
       "        text-align: right;\n",
       "    }\n",
       "</style>\n",
       "<table border=\"1\" class=\"dataframe\">\n",
       "  <thead>\n",
       "    <tr style=\"text-align: right;\">\n",
       "      <th></th>\n",
       "      <th>id</th>\n",
       "      <th>Created at</th>\n",
       "      <th>Screen Name</th>\n",
       "      <th>Tweet Text</th>\n",
       "    </tr>\n",
       "  </thead>\n",
       "  <tbody>\n",
       "    <tr>\n",
       "      <th>0</th>\n",
       "      <td>1321203946883444738</td>\n",
       "      <td>Tue Oct 27 21:35:42 +0000 2020</td>\n",
       "      <td>kylegriffin1</td>\n",
       "      <td>Breaking: New NYT tax report.\\n\\nTrump's feder...</td>\n",
       "    </tr>\n",
       "    <tr>\n",
       "      <th>1</th>\n",
       "      <td>1321138640794378242</td>\n",
       "      <td>Tue Oct 27 17:16:12 +0000 2020</td>\n",
       "      <td>Fahrenthold</td>\n",
       "      <td>NEW: Previously un-released documents show the...</td>\n",
       "    </tr>\n",
       "    <tr>\n",
       "      <th>2</th>\n",
       "      <td>1321232759516528640</td>\n",
       "      <td>Tue Oct 27 23:30:11 +0000 2020</td>\n",
       "      <td>RepAdamSchiff</td>\n",
       "      <td>There is no limit to this Administration’s cor...</td>\n",
       "    </tr>\n",
       "    <tr>\n",
       "      <th>3</th>\n",
       "      <td>1321683136846176257</td>\n",
       "      <td>Thu Oct 29 05:19:50 +0000 2020</td>\n",
       "      <td>shellyshenoy</td>\n",
       "      <td>PLEASE BEG YOUR FRIENDS IN NORTH CAROLINA TO V...</td>\n",
       "    </tr>\n",
       "    <tr>\n",
       "      <th>4</th>\n",
       "      <td>1321683136716197888</td>\n",
       "      <td>Thu Oct 29 05:19:50 +0000 2020</td>\n",
       "      <td>JoanHathaway</td>\n",
       "      <td>RT @BillOReilly: My take is Mr. Trump is showi...</td>\n",
       "    </tr>\n",
       "    <tr>\n",
       "      <th>...</th>\n",
       "      <td>...</td>\n",
       "      <td>...</td>\n",
       "      <td>...</td>\n",
       "      <td>...</td>\n",
       "    </tr>\n",
       "    <tr>\n",
       "      <th>515</th>\n",
       "      <td>1321683017069375490</td>\n",
       "      <td>Thu Oct 29 05:19:21 +0000 2020</td>\n",
       "      <td>GDT0429</td>\n",
       "      <td>RT @CREWcrew: Even after Trump sued Deutsche B...</td>\n",
       "    </tr>\n",
       "    <tr>\n",
       "      <th>517</th>\n",
       "      <td>1321683016767426560</td>\n",
       "      <td>Thu Oct 29 05:19:21 +0000 2020</td>\n",
       "      <td>WQKE_UP_AMERICA</td>\n",
       "      <td>RT @CalebJHull: JUST IN: DOJ investigation has...</td>\n",
       "    </tr>\n",
       "    <tr>\n",
       "      <th>520</th>\n",
       "      <td>1321683015093768193</td>\n",
       "      <td>Thu Oct 29 05:19:21 +0000 2020</td>\n",
       "      <td>DeeDeeGriff</td>\n",
       "      <td>RT @SerendipityDizl: Trump is ahead in MI (oof...</td>\n",
       "    </tr>\n",
       "    <tr>\n",
       "      <th>522</th>\n",
       "      <td>1321683013411905541</td>\n",
       "      <td>Thu Oct 29 05:19:20 +0000 2020</td>\n",
       "      <td>trsteshull</td>\n",
       "      <td>RT @TonyDuran1964: Fantastic. Trump 2020!!</td>\n",
       "    </tr>\n",
       "    <tr>\n",
       "      <th>523</th>\n",
       "      <td>1321683013353172992</td>\n",
       "      <td>Thu Oct 29 05:19:20 +0000 2020</td>\n",
       "      <td>julie_mememe73</td>\n",
       "      <td>@WOsrin Trump mushroom</td>\n",
       "    </tr>\n",
       "  </tbody>\n",
       "</table>\n",
       "<p>422 rows × 4 columns</p>\n",
       "</div>"
      ],
      "text/plain": [
       "                      id                      Created at      Screen Name  \\\n",
       "0    1321203946883444738  Tue Oct 27 21:35:42 +0000 2020     kylegriffin1   \n",
       "1    1321138640794378242  Tue Oct 27 17:16:12 +0000 2020      Fahrenthold   \n",
       "2    1321232759516528640  Tue Oct 27 23:30:11 +0000 2020    RepAdamSchiff   \n",
       "3    1321683136846176257  Thu Oct 29 05:19:50 +0000 2020     shellyshenoy   \n",
       "4    1321683136716197888  Thu Oct 29 05:19:50 +0000 2020     JoanHathaway   \n",
       "..                   ...                             ...              ...   \n",
       "515  1321683017069375490  Thu Oct 29 05:19:21 +0000 2020          GDT0429   \n",
       "517  1321683016767426560  Thu Oct 29 05:19:21 +0000 2020  WQKE_UP_AMERICA   \n",
       "520  1321683015093768193  Thu Oct 29 05:19:21 +0000 2020      DeeDeeGriff   \n",
       "522  1321683013411905541  Thu Oct 29 05:19:20 +0000 2020       trsteshull   \n",
       "523  1321683013353172992  Thu Oct 29 05:19:20 +0000 2020   julie_mememe73   \n",
       "\n",
       "                                            Tweet Text  \n",
       "0    Breaking: New NYT tax report.\\n\\nTrump's feder...  \n",
       "1    NEW: Previously un-released documents show the...  \n",
       "2    There is no limit to this Administration’s cor...  \n",
       "3    PLEASE BEG YOUR FRIENDS IN NORTH CAROLINA TO V...  \n",
       "4    RT @BillOReilly: My take is Mr. Trump is showi...  \n",
       "..                                                 ...  \n",
       "515  RT @CREWcrew: Even after Trump sued Deutsche B...  \n",
       "517  RT @CalebJHull: JUST IN: DOJ investigation has...  \n",
       "520  RT @SerendipityDizl: Trump is ahead in MI (oof...  \n",
       "522         RT @TonyDuran1964: Fantastic. Trump 2020!!  \n",
       "523                             @WOsrin Trump mushroom  \n",
       "\n",
       "[422 rows x 4 columns]"
      ]
     },
     "execution_count": 23,
     "metadata": {},
     "output_type": "execute_result"
    }
   ],
   "source": [
    "trump_tweets_df"
   ]
  },
  {
   "cell_type": "code",
   "execution_count": null,
   "metadata": {},
   "outputs": [],
   "source": []
  }
 ],
 "metadata": {
  "kernelspec": {
   "display_name": "Python 3",
   "language": "python",
   "name": "python3"
  },
  "language_info": {
   "codemirror_mode": {
    "name": "ipython",
    "version": 3
   },
   "file_extension": ".py",
   "mimetype": "text/x-python",
   "name": "python",
   "nbconvert_exporter": "python",
   "pygments_lexer": "ipython3",
   "version": "3.7.6"
  }
 },
 "nbformat": 4,
 "nbformat_minor": 4
}
